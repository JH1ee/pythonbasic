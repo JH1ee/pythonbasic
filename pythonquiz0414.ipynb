{
  "nbformat": 4,
  "nbformat_minor": 0,
  "metadata": {
    "colab": {
      "name": "classday5.ipynb",
      "provenance": [],
      "collapsed_sections": [],
      "authorship_tag": "ABX9TyPL76+/etmBd1/w5T6r7/cY",
      "include_colab_link": true
    },
    "kernelspec": {
      "name": "python3",
      "display_name": "Python 3"
    }
  },
  "cells": [
    {
      "cell_type": "markdown",
      "metadata": {
        "id": "view-in-github",
        "colab_type": "text"
      },
      "source": [
        "<a href=\"https://colab.research.google.com/github/JH1ee/pythonbasic/blob/main/pythonquiz0414.ipynb\" target=\"_parent\"><img src=\"https://colab.research.google.com/assets/colab-badge.svg\" alt=\"Open In Colab\"/></a>"
      ]
    },
    {
      "cell_type": "code",
      "metadata": {
        "id": "1w-Yj5jNrAJh"
      },
      "source": [
        "nums = [100, 200, 300, 400, 500]\n",
        "nums.remove(400)\n",
        "nums.remove(500)"
      ],
      "execution_count": null,
      "outputs": []
    },
    {
      "cell_type": "markdown",
      "metadata": {
        "id": "0P629tWTK1uH"
      },
      "source": [
        ""
      ]
    },
    {
      "cell_type": "code",
      "metadata": {
        "colab": {
          "base_uri": "https://localhost:8080/"
        },
        "id": "7694IRe0J1BF",
        "outputId": "0e411d03-34df-4264-8759-3f811fbb4cf4"
      },
      "source": [
        "nums"
      ],
      "execution_count": null,
      "outputs": [
        {
          "output_type": "execute_result",
          "data": {
            "text/plain": [
              "[100, 200, 300]"
            ]
          },
          "metadata": {
            "tags": []
          },
          "execution_count": 18
        }
      ]
    },
    {
      "cell_type": "code",
      "metadata": {
        "colab": {
          "base_uri": "https://localhost:8080/"
        },
        "id": "xXLKNbETKJJ1",
        "outputId": "1d334e3a-0a44-4dda-fd2a-e06bd67ec237"
      },
      "source": [
        "nums = [100, 200, 300, 400, 500]\n",
        "nums.pop(3)\n",
        "nums.pop(3)\n",
        "nums"
      ],
      "execution_count": null,
      "outputs": [
        {
          "output_type": "execute_result",
          "data": {
            "text/plain": [
              "[100, 200, 300]"
            ]
          },
          "metadata": {
            "tags": []
          },
          "execution_count": 17
        }
      ]
    },
    {
      "cell_type": "code",
      "metadata": {
        "colab": {
          "base_uri": "https://localhost:8080/"
        },
        "id": "RgfewC_kKSP4",
        "outputId": "6866235e-d175-4125-8c2a-ee41f10ff0a5"
      },
      "source": [
        "nums = [100, 200, 300, 400, 500]\n",
        "nums = nums[:3]\n",
        "nums"
      ],
      "execution_count": null,
      "outputs": [
        {
          "output_type": "execute_result",
          "data": {
            "text/plain": [
              "[100, 200, 300]"
            ]
          },
          "metadata": {
            "tags": []
          },
          "execution_count": 21
        }
      ]
    },
    {
      "cell_type": "code",
      "metadata": {
        "colab": {
          "base_uri": "https://localhost:8080/"
        },
        "id": "NjSBp0loM034",
        "outputId": "b6533163-dc4b-4fca-de18-10a71ec38836"
      },
      "source": [
        "i = [200,100,300]\n",
        "i.insert(2,10000)\n",
        "print(i)"
      ],
      "execution_count": null,
      "outputs": [
        {
          "output_type": "stream",
          "text": [
            "[200, 100, 10000, 300]\n"
          ],
          "name": "stdout"
        }
      ]
    },
    {
      "cell_type": "code",
      "metadata": {
        "id": "0aP9NrGjMmDo"
      },
      "source": [
        "i = [100, 200, 300]\n",
        "print"
      ],
      "execution_count": null,
      "outputs": []
    },
    {
      "cell_type": "code",
      "metadata": {
        "colab": {
          "base_uri": "https://localhost:8080/"
        },
        "id": "xApquCaFOsRt",
        "outputId": "21ad4ec7-5d71-40b9-a1e2-ef99f3bccb04"
      },
      "source": [
        "a = 10\n",
        "b = 2\n",
        "for i in range(1,5,2):\n",
        "  a+=i\n",
        "print(a+b)"
      ],
      "execution_count": null,
      "outputs": [
        {
          "output_type": "stream",
          "text": [
            "16\n"
          ],
          "name": "stdout"
        }
      ]
    },
    {
      "cell_type": "markdown",
      "metadata": {
        "id": "Ev0B9kjsOwpJ"
      },
      "source": [
        ""
      ]
    },
    {
      "cell_type": "code",
      "metadata": {
        "colab": {
          "base_uri": "https://localhost:8080/"
        },
        "id": "Ki9wxMbMSOH8",
        "outputId": "9f64b76e-d52d-4b16-8cb8-3300ad946e7d"
      },
      "source": [
        "d={'weight':78,'weight':84}\n",
        "print(d['weight'])"
      ],
      "execution_count": null,
      "outputs": [
        {
          "output_type": "stream",
          "text": [
            "84\n"
          ],
          "name": "stdout"
        }
      ]
    },
    {
      "cell_type": "code",
      "metadata": {
        "colab": {
          "base_uri": "https://localhost:8080/"
        },
        "id": "7bwlrJlhTFfc",
        "outputId": "23fad959-b72b-45ce-a3c3-0796c5b4550e"
      },
      "source": [
        "year = '2019'\n",
        "month = '04'\n",
        "day = '26'\n",
        "hour = '11'\n",
        "minute = '34'\n",
        "second = '27'\n",
        "\n",
        "print(year, month, day, sep=\"/\", end=' ')  #sep은 , 사이에 넣고 싶은 문자 넣어줌 end 문장 끝을 어떻게 할지\n",
        "print(hour, minute, second, sep=\":\")\n"
      ],
      "execution_count": null,
      "outputs": [
        {
          "output_type": "stream",
          "text": [
            "2019/04/26 11:34:27\n"
          ],
          "name": "stdout"
        }
      ]
    },
    {
      "cell_type": "code",
      "metadata": {
        "colab": {
          "base_uri": "https://localhost:8080/"
        },
        "id": "V9TFdzgGZ1fa",
        "outputId": "6be6f5ae-0d4a-4f00-90ca-6385f8e41e9b"
      },
      "source": [
        "print('    *    ')\n",
        "print('   ***   ')\n",
        "print('  *****  ')\n",
        "print(' ******* ')\n",
        "print('*********')"
      ],
      "execution_count": null,
      "outputs": [
        {
          "output_type": "stream",
          "text": [
            "    *    \n",
            "   ***   \n",
            "  *****  \n",
            " ******* \n",
            "*********\n"
          ],
          "name": "stdout"
        }
      ]
    },
    {
      "cell_type": "code",
      "metadata": {
        "colab": {
          "base_uri": "https://localhost:8080/"
        },
        "id": "7ESmnMiGaF3I",
        "outputId": "28528bb7-7b05-4bac-ed66-17e2edcc6834"
      },
      "source": [
        "#홀수 만드는 공식 2 * x - 1 \n",
        "\n",
        "n = int(input(\"몇 줄짜리 트리를  만들까요? \"))\n",
        "for i in range(1,tree+1):\n",
        "  print(\" \" * (n-i) + \"*\" * (2 * i - 1))\n"
      ],
      "execution_count": null,
      "outputs": [
        {
          "output_type": "stream",
          "text": [
            "몇 줄짜리 트리를  만들까요? 5\n",
            "    *\n",
            "   ***\n",
            "  *****\n",
            " *******\n",
            "*********\n"
          ],
          "name": "stdout"
        }
      ]
    },
    {
      "cell_type": "code",
      "metadata": {
        "colab": {
          "base_uri": "https://localhost:8080/"
        },
        "id": "qBBt8uxKaxWf",
        "outputId": "c4e9ca08-333f-4bb5-a9c7-c8e8351cb284"
      },
      "source": [
        "#문제 11\n",
        "s = 0\n",
        "for i in range(1, 101): \n",
        "  s = s + i \n",
        "print(s)\n"
      ],
      "execution_count": null,
      "outputs": [
        {
          "output_type": "stream",
          "text": [
            "5050\n"
          ],
          "name": "stdout"
        }
      ]
    },
    {
      "cell_type": "code",
      "metadata": {
        "colab": {
          "base_uri": "https://localhost:8080/"
        },
        "id": "b6Q0tf1A3Jqs",
        "outputId": "fda16e74-bf1d-44bd-d330-202e11877e82"
      },
      "source": [
        "#문제 12\n",
        "class Wizard:\n",
        "  def __init__(self, health, mana, armor):\n",
        "    self.health = health\n",
        "    self.mana = mana\n",
        "    self.armor = armor\n",
        "\n",
        "  def attack(self):\n",
        "    print(\"파이어볼\")\n",
        "\n",
        "\n",
        "x = Wizard(health = 545,  mana = 210, armor = 10)\n",
        "print(x.health, x.mana, x.armor)\n",
        "x.attack()"
      ],
      "execution_count": null,
      "outputs": [
        {
          "output_type": "stream",
          "text": [
            "545 210 10\n",
            "파이어볼\n"
          ],
          "name": "stdout"
        }
      ]
    },
    {
      "cell_type": "code",
      "metadata": {
        "colab": {
          "base_uri": "https://localhost:8080/"
        },
        "id": "VDT8OqKo5BPv",
        "outputId": "f06f46aa-a1f9-4fcf-daa8-80728d5d5e51"
      },
      "source": [
        "#문제 13\n",
        "planet = ['수성', '금성', '지구', '화성', '목성', '토성', '천왕성','해왕성']\n",
        "n = int(input(\"몇번째 행성이 알고 싶으신가요? : \")) - 1\n",
        "print(planet[n])\n"
      ],
      "execution_count": null,
      "outputs": [
        {
          "output_type": "stream",
          "text": [
            "몇번째 행성이 알고 싶으신가요? : 5\n",
            "목성\n"
          ],
          "name": "stdout"
        }
      ]
    },
    {
      "cell_type": "code",
      "metadata": {
        "colab": {
          "base_uri": "https://localhost:8080/"
        },
        "id": "fZxPYAui-K5K",
        "outputId": "04864767-82de-4f68-ec10-c9870a0b269a"
      },
      "source": [
        "#문제 14\n",
        "n = int(input(\"숫자를 입력해주세요 : \"))\n",
        "if n % 3 == 0 :\n",
        "  print(\"짝\")\n",
        "else:\n",
        "  print(\"n\")"
      ],
      "execution_count": null,
      "outputs": [
        {
          "output_type": "stream",
          "text": [
            "숫자를 입력해주세요 : 3\n",
            "짝\n"
          ],
          "name": "stdout"
        }
      ]
    },
    {
      "cell_type": "code",
      "metadata": {
        "colab": {
          "base_uri": "https://localhost:8080/"
        },
        "id": "-uPXdaWrBrhD",
        "outputId": "ff978382-80d7-4388-9031-90b8e4bcd659"
      },
      "source": [
        "#문제 15\n",
        "name = str(input(\"당신의 이름은 무엇 입니까? : \"))\n",
        "print(\"안녕하세요. 저는 %s 입니다.\" % name)\n"
      ],
      "execution_count": null,
      "outputs": [
        {
          "output_type": "stream",
          "text": [
            "당신의 이름은 무엇 입니까? : 이진형\n",
            "안녕하세요. 저는 이진형 입니다.\n"
          ],
          "name": "stdout"
        }
      ]
    },
    {
      "cell_type": "code",
      "metadata": {
        "colab": {
          "base_uri": "https://localhost:8080/"
        },
        "id": "rMWkDmAQC8iF",
        "outputId": "6a222d18-2884-4859-fdd6-53db7e6108d8"
      },
      "source": [
        "#문제16\n",
        "a = list(input(\"글자를 입력해주세요 :\"))\n",
        "a.reverse()\n",
        "print(a)"
      ],
      "execution_count": null,
      "outputs": [
        {
          "output_type": "stream",
          "text": [
            "글자를 입력해주세요 :거꾸로\n",
            "['로', '꾸', '거']\n"
          ],
          "name": "stdout"
        }
      ]
    },
    {
      "cell_type": "code",
      "metadata": {
        "colab": {
          "base_uri": "https://localhost:8080/"
        },
        "id": "NjVUIrJkG2Ll",
        "outputId": "693a5aff-dc66-4381-ef88-895c6d1b970a"
      },
      "source": [
        "#문제16 - 짧은버전\n",
        "s = input('')\n",
        "print(s[::-1]) #그대로 뒤집어서 출력시킴\n"
      ],
      "execution_count": null,
      "outputs": [
        {
          "output_type": "stream",
          "text": [
            "거꾸로\n",
            "로꾸거\n"
          ],
          "name": "stdout"
        }
      ]
    },
    {
      "cell_type": "code",
      "metadata": {
        "id": "xwLv7M7nHSI_"
      },
      "source": [
        ""
      ],
      "execution_count": null,
      "outputs": []
    },
    {
      "cell_type": "code",
      "metadata": {
        "colab": {
          "base_uri": "https://localhost:8080/"
        },
        "id": "jIsG0rDADwVI",
        "outputId": "7553dbbf-2f70-4839-eab7-6d23fb35596a"
      },
      "source": [
        "#문제17\n",
        "height = int(input(\"키를 입력해주세요 : \"))\n",
        "if height < 150:\n",
        "  print(\"no\")\n",
        "else:\n",
        "  print(\"yes\")"
      ],
      "execution_count": null,
      "outputs": [
        {
          "output_type": "stream",
          "text": [
            "키를 입력해주세요 : 174\n",
            "yes\n"
          ],
          "name": "stdout"
        }
      ]
    },
    {
      "cell_type": "code",
      "metadata": {
        "colab": {
          "base_uri": "https://localhost:8080/"
        },
        "id": "LZjpMlWaFhU-",
        "outputId": "a86fade7-07f6-44a6-f8a4-be1b93ac15d5"
      },
      "source": [
        "#문제 18\n",
        "score = list(input('').split(' '))\n",
        "i = len(score)\n",
        "a = 0\n",
        "sum = 0\n",
        "avg = 0\n",
        "for a in range(0,i):\n",
        "  sum += int(score[a])\n",
        "avg = sum/i\n",
        "print(int(avg))"
      ],
      "execution_count": null,
      "outputs": [
        {
          "output_type": "stream",
          "text": [
            "20 30 40 50 60\n",
            "40\n"
          ],
          "name": "stdout"
        }
      ]
    },
    {
      "cell_type": "code",
      "metadata": {
        "id": "eXem-3PnQN8c"
      },
      "source": [
        "nums = list(map(int,input().split()))\n",
        "print(int(sum(nums)/len(nums)))"
      ],
      "execution_count": null,
      "outputs": []
    },
    {
      "cell_type": "code",
      "metadata": {
        "colab": {
          "base_uri": "https://localhost:8080/"
        },
        "id": "_Jk3_molJOAw",
        "outputId": "78b1c7a2-0e8d-47e6-ba50-9782926aafd3"
      },
      "source": [
        "#문제 19\n",
        "a,b = map(int,input().split())\n",
        "print(a**b)"
      ],
      "execution_count": null,
      "outputs": [
        {
          "output_type": "stream",
          "text": [
            "2 4\n",
            "16\n"
          ],
          "name": "stdout"
        }
      ]
    },
    {
      "cell_type": "code",
      "metadata": {
        "colab": {
          "base_uri": "https://localhost:8080/"
        },
        "id": "0beLPsoSPOOs",
        "outputId": "445e58a9-1e2b-4843-9fa2-8a63aea46d6c"
      },
      "source": [
        "n = list(map(int, input().split()))\n",
        "print(n[0] ** n[1])"
      ],
      "execution_count": null,
      "outputs": [
        {
          "output_type": "stream",
          "text": [
            "2 4\n",
            "16\n"
          ],
          "name": "stdout"
        }
      ]
    },
    {
      "cell_type": "code",
      "metadata": {
        "colab": {
          "base_uri": "https://localhost:8080/"
        },
        "id": "uAaf7kPxPiGb",
        "outputId": "220c1a53-dc9c-42f8-963c-5a123b0471a3"
      },
      "source": [
        "#문제 20\n",
        "n = list(map(int, input().split()))\n",
        "print(n[0]//n[1], n[0]%n[1])"
      ],
      "execution_count": null,
      "outputs": [
        {
          "output_type": "stream",
          "text": [
            "5 2\n",
            "2 1\n"
          ],
          "name": "stdout"
        }
      ]
    },
    {
      "cell_type": "code",
      "metadata": {
        "colab": {
          "base_uri": "https://localhost:8080/"
        },
        "id": "3yICMfvLQk5p",
        "outputId": "bc9d171f-9e38-443b-9a74-ae8d005b90c2"
      },
      "source": [
        "#문제24\n",
        "n = input()\n",
        "print(n.upper())"
      ],
      "execution_count": null,
      "outputs": [
        {
          "output_type": "stream",
          "text": [
            "ace\n",
            "ACE\n"
          ],
          "name": "stdout"
        }
      ]
    },
    {
      "cell_type": "code",
      "metadata": {
        "colab": {
          "base_uri": "https://localhost:8080/"
        },
        "id": "Rb3m1IWDUKhZ",
        "outputId": "6ee92fdc-c05a-4ca6-f00b-2463b6a71370"
      },
      "source": [
        "print(input().upper())"
      ],
      "execution_count": null,
      "outputs": [
        {
          "output_type": "stream",
          "text": [
            "ace\n",
            "ACE\n"
          ],
          "name": "stdout"
        }
      ]
    },
    {
      "cell_type": "code",
      "metadata": {
        "colab": {
          "base_uri": "https://localhost:8080/"
        },
        "id": "Kg60f0qdU13A",
        "outputId": "207681eb-3109-40ca-9a75-857648ab8e51"
      },
      "source": [
        "#문제25\n",
        "#n = int(input(''))\n",
        "\n",
        "def circle(n):\n",
        "  return n * n * 3.14\n",
        "\n",
        "circle(int(input()))\n",
        "#print(circle(n))"
      ],
      "execution_count": null,
      "outputs": [
        {
          "output_type": "stream",
          "text": [
            "5\n"
          ],
          "name": "stdout"
        },
        {
          "output_type": "execute_result",
          "data": {
            "text/plain": [
              "78.5"
            ]
          },
          "metadata": {
            "tags": []
          },
          "execution_count": 161
        }
      ]
    },
    {
      "cell_type": "code",
      "metadata": {
        "colab": {
          "base_uri": "https://localhost:8080/"
        },
        "id": "ME4F_NV-Vnnn",
        "outputId": "230e6272-c968-4b8f-f830-36740315e0d2"
      },
      "source": [
        "#문제26\n",
        "planet = { \n",
        "    '수성' : 'Mercury',\n",
        "    '금성' : 'Venus',\n",
        "    '지구' : 'Earth',\n",
        "    '화성' : 'Mars',\n",
        "    '목성' : 'Jupiter',\n",
        "    '토성' : 'Saturn',\n",
        "    '천왕성' : 'Uranus',\n",
        "    '해왕성' : 'Neptune'\n",
        "}\n",
        "# try:\n",
        "#   a = input()\n",
        "#   planet[a]\n",
        "# except KeyError:\n",
        "#   print('잘못 입력하셨습니다')\n",
        "\n",
        "# if a not in planet.keys():\n",
        "#   print('잘못 입력하셨습니다')\n",
        "# else:\n",
        "#   planet[a]\n",
        "\n",
        "print((planet.get(input())))"
      ],
      "execution_count": null,
      "outputs": [
        {
          "output_type": "stream",
          "text": [
            "earth\n",
            "None\n"
          ],
          "name": "stdout"
        }
      ]
    },
    {
      "cell_type": "code",
      "metadata": {
        "id": "A0icPs1wc1VH"
      },
      "source": [
        ""
      ],
      "execution_count": null,
      "outputs": []
    },
    {
      "cell_type": "code",
      "metadata": {
        "id": "vY2viKzvdUWp",
        "colab": {
          "base_uri": "https://localhost:8080/"
        },
        "outputId": "7639016d-aa76-47eb-b6d9-0973808d71d2"
      },
      "source": [
        "def func (numlist):\n",
        "  e_count=0 #짝수용 변수 선언\n",
        "  o_count=0 #홀수용 변수 선언\n",
        "  for x in numlist: \n",
        "    if(x%2==0): #2로 나누어 나머지가 0이면\n",
        "      e_count+=1 #짝수 + 1\n",
        "  else: #아니면\n",
        "    o_count+=1 #홀수 + 1\n",
        "  print(\"홀수 %s개, 짝수 %s개\"%(o_count, e_count) ) #짝수 홀수 출력\n",
        "\n",
        "\n",
        "func([12, 16, 22, 24, 29])\n"
      ],
      "execution_count": null,
      "outputs": [
        {
          "output_type": "stream",
          "text": [
            "홀수 1개, 짝수 4개\n"
          ],
          "name": "stdout"
        }
      ]
    },
    {
      "cell_type": "code",
      "metadata": {
        "id": "WuZQP0_40drF",
        "colab": {
          "base_uri": "https://localhost:8080/"
        },
        "outputId": "fe17ce2c-6b5f-46f3-8d57-de2febb0d859"
      },
      "source": [
        "def tri(x, y, z): #삼각형 함수 선언 및 3각 입력 받음\n",
        "  if (x+y+z) > 180 or x ==0 or y ==0  or z ==0: #3각의 합이 180 이상일때 혹은 x,y,z 중에 하나라도 0이면 삼각형이 아님\n",
        "    print(\"삼각형이 아닙니다.\") \n",
        "  elif max(x,y,z) > 90: #3각 중 가장 큰 각이 90도보다 클 때\n",
        "    print(\"둔각삼각형 입니다.\") #둔각\n",
        "  elif max(x, y, z) == 90: #3각 중에 가장 큰 각이 90도 일때\n",
        "    print(\"직각삼각형 입니다.\") #직각\n",
        "  else: #나머지 경우는 전부\n",
        "    print(\"예각삼각형 입니다.\")# 예각\n",
        "  return \"\"\n",
        "x=int(input('제1각을 입력하세요')) #각 입력\n",
        "y=int(input('제2각을 입력하세요')) #각 입력\n",
        "z=int(input('제3각을 입력하세요')) #각 입력\n",
        "print(tri(x,y,z)) #출력\n",
        "  "
      ],
      "execution_count": null,
      "outputs": [
        {
          "output_type": "stream",
          "text": [
            "제1각을 입력하세요0\n",
            "제2각을 입력하세요0\n",
            "제3각을 입력하세요180\n",
            "삼각형이 아닙니다.\n",
            "\n"
          ],
          "name": "stdout"
        }
      ]
    },
    {
      "cell_type": "code",
      "metadata": {
        "colab": {
          "base_uri": "https://localhost:8080/",
          "height": 136
        },
        "id": "uXwHTs9sAUv7",
        "outputId": "0c20a991-1b5b-47bc-d6e7-196895d292c5"
      },
      "source": [
        "808def search (x,y,z):\n",
        "  if x+y+z!= 180 or x==0 or y==0 or z==0:\n",
        "    print('삼각형이 아닙니다')\n",
        "  else:\n",
        "    if max(x,y,z)>90 :\n",
        "      print('둔각삼각형입니다')\n",
        "  elif max(x,y,z)==90:\n",
        "    print('직각삼각형입니다')\n",
        "  else:\n",
        "    print('예각삼각형입니다')\n",
        "  return ''\n",
        "x=int(input('제1각을 입력하세요'))\n",
        "y=int(input('제2각을 입력하세요'))\n",
        "z=int(input('제3각을 입력하세요'))\n",
        "print(search(x,y,z))"
      ],
      "execution_count": null,
      "outputs": [
        {
          "output_type": "error",
          "ename": "SyntaxError",
          "evalue": "ignored",
          "traceback": [
            "\u001b[0;36m  File \u001b[0;32m\"<ipython-input-7-177d5eb7a572>\"\u001b[0;36m, line \u001b[0;32m7\u001b[0m\n\u001b[0;31m    elif max(x,y,z)==90:\u001b[0m\n\u001b[0m       ^\u001b[0m\n\u001b[0;31mSyntaxError\u001b[0m\u001b[0;31m:\u001b[0m invalid syntax\n"
          ]
        }
      ]
    },
    {
      "cell_type": "code",
      "metadata": {
        "id": "5Gj73pTKBMMd",
        "colab": {
          "base_uri": "https://localhost:8080/"
        },
        "outputId": "633fd433-ed07-4353-d4e6-832a697462d8"
      },
      "source": [
        "x = ('Today',)\n",
        "type(x)"
      ],
      "execution_count": null,
      "outputs": [
        {
          "output_type": "execute_result",
          "data": {
            "text/plain": [
              "tuple"
            ]
          },
          "metadata": {
            "tags": []
          },
          "execution_count": 2
        }
      ]
    },
    {
      "cell_type": "code",
      "metadata": {
        "colab": {
          "base_uri": "https://localhost:8080/"
        },
        "id": "7uHxOyVf9o6K",
        "outputId": "457ec1c8-acc9-4969-b1e0-2e691ee9b120"
      },
      "source": [
        "x='1'\n",
        "x='2'\n",
        "print(x)"
      ],
      "execution_count": null,
      "outputs": [
        {
          "output_type": "stream",
          "text": [
            "2\n"
          ],
          "name": "stdout"
        }
      ]
    },
    {
      "cell_type": "code",
      "metadata": {
        "colab": {
          "base_uri": "https://localhost:8080/"
        },
        "id": "vBN4NqUo9yMS",
        "outputId": "b9b27e02-681a-4e7f-e1b0-41eacd17f26c"
      },
      "source": [
        "x = ['hot','100',True]\n",
        "x.remove('100')\n",
        "weather, humid = x\n",
        "print(weather, humid) "
      ],
      "execution_count": null,
      "outputs": [
        {
          "output_type": "stream",
          "text": [
            "hot True\n"
          ],
          "name": "stdout"
        }
      ]
    },
    {
      "cell_type": "code",
      "metadata": {
        "colab": {
          "base_uri": "https://localhost:8080/"
        },
        "id": "daUtwnOl-A-O",
        "outputId": "bf12672a-11ac-4756-c4bc-4d0eea27bec7"
      },
      "source": [
        "x = ['to', 'su', 'mo']\n",
        "x[2] = 'fr'\n",
        "x[1] = 'ye'\n",
        "\n",
        "print(x[-2] + 'was a great day')"
      ],
      "execution_count": null,
      "outputs": [
        {
          "output_type": "stream",
          "text": [
            "yewas a great day\n"
          ],
          "name": "stdout"
        }
      ]
    },
    {
      "cell_type": "code",
      "metadata": {
        "colab": {
          "base_uri": "https://localhost:8080/",
          "height": 190
        },
        "id": "cueHgKe5-Qm7",
        "outputId": "1daa802a-091d-4807-d3bb-d335c685024e"
      },
      "source": [
        "x = [10,20,30,40]\n",
        "print(x[20])"
      ],
      "execution_count": null,
      "outputs": [
        {
          "output_type": "error",
          "ename": "IndexError",
          "evalue": "ignored",
          "traceback": [
            "\u001b[0;31m---------------------------------------------------------------------------\u001b[0m",
            "\u001b[0;31mIndexError\u001b[0m                                Traceback (most recent call last)",
            "\u001b[0;32m<ipython-input-7-ac8c9c5c6678>\u001b[0m in \u001b[0;36m<module>\u001b[0;34m()\u001b[0m\n\u001b[1;32m      1\u001b[0m \u001b[0mx\u001b[0m \u001b[0;34m=\u001b[0m \u001b[0;34m[\u001b[0m\u001b[0;36m10\u001b[0m\u001b[0;34m,\u001b[0m\u001b[0;36m20\u001b[0m\u001b[0;34m,\u001b[0m\u001b[0;36m30\u001b[0m\u001b[0;34m,\u001b[0m\u001b[0;36m40\u001b[0m\u001b[0;34m]\u001b[0m\u001b[0;34m\u001b[0m\u001b[0;34m\u001b[0m\u001b[0m\n\u001b[0;32m----> 2\u001b[0;31m \u001b[0mprint\u001b[0m\u001b[0;34m(\u001b[0m\u001b[0mx\u001b[0m\u001b[0;34m[\u001b[0m\u001b[0;36m20\u001b[0m\u001b[0;34m]\u001b[0m\u001b[0;34m)\u001b[0m\u001b[0;34m\u001b[0m\u001b[0;34m\u001b[0m\u001b[0m\n\u001b[0m",
            "\u001b[0;31mIndexError\u001b[0m: list index out of range"
          ]
        }
      ]
    },
    {
      "cell_type": "code",
      "metadata": {
        "colab": {
          "base_uri": "https://localhost:8080/"
        },
        "id": "AsN7n3gZ-e2H",
        "outputId": "f0a6d7db-a786-47fa-8992-b094a44766c7"
      },
      "source": [
        "def abc():\n",
        "  x = 10\n",
        "  print(x)\n",
        "abc()\n",
        "x=12"
      ],
      "execution_count": null,
      "outputs": [
        {
          "output_type": "stream",
          "text": [
            "10\n"
          ],
          "name": "stdout"
        }
      ]
    },
    {
      "cell_type": "code",
      "metadata": {
        "colab": {
          "base_uri": "https://localhost:8080/"
        },
        "id": "6Hyv_8qJ-ogq",
        "outputId": "df563a4a-fc96-4b1d-ae2d-7969128a4f72"
      },
      "source": [
        "def xyz():\n",
        "  x = 40\n",
        "  abc()\n",
        "  print(x)\n",
        "def abc():\n",
        "  a = 32\n",
        "  x = 10\n",
        "xyz()\n"
      ],
      "execution_count": null,
      "outputs": [
        {
          "output_type": "stream",
          "text": [
            "40\n"
          ],
          "name": "stdout"
        }
      ]
    },
    {
      "cell_type": "code",
      "metadata": {
        "colab": {
          "base_uri": "https://localhost:8080/"
        },
        "id": "CUAMOZmJ_MgJ",
        "outputId": "7c1d7bd5-f595-434f-8695-69eb4657df4a"
      },
      "source": [
        "a = list(range(-10,5,2))\n",
        "print(sum(a))"
      ],
      "execution_count": null,
      "outputs": [
        {
          "output_type": "stream",
          "text": [
            "-24\n"
          ],
          "name": "stdout"
        }
      ]
    },
    {
      "cell_type": "code",
      "metadata": {
        "colab": {
          "base_uri": "https://localhost:8080/"
        },
        "id": "_RAzxc6X_21O",
        "outputId": "fbed82d7-a8dd-48d5-9b83-eb66fa6c29be"
      },
      "source": [
        "x = []\n",
        "if bool(x):\n",
        "  print('yes')\n",
        "else:\n",
        "  print('no')\n"
      ],
      "execution_count": null,
      "outputs": [
        {
          "output_type": "stream",
          "text": [
            "no\n"
          ],
          "name": "stdout"
        }
      ]
    },
    {
      "cell_type": "code",
      "metadata": {
        "colab": {
          "base_uri": "https://localhost:8080/"
        },
        "id": "TcVzeisTAAbZ",
        "outputId": "d7645b54-c51d-4aa9-b678-b124c23c1508"
      },
      "source": [
        "def fibo(n): #함수 선언\n",
        "  a = 0 #0선언\n",
        "  b = 1 #1선언\n",
        "  print('0', end = '') #0을 따로 출력시켜줌\n",
        "  while b <= n: # b가 n과 같아질때까지 반복\n",
        "    print(', %d' %b, end = '') # 출력\n",
        "    a, b = b, a+b #위에서 0을 출력 하였기에 1부터 출력 시작\n",
        "\n",
        "fibo(100) #출력\n",
        "\n"
      ],
      "execution_count": null,
      "outputs": [
        {
          "output_type": "stream",
          "text": [
            "0, 1, 1, 2, 3, 5, 8, 13, 21, 34, 55, 89"
          ],
          "name": "stdout"
        }
      ]
    },
    {
      "cell_type": "code",
      "metadata": {
        "colab": {
          "base_uri": "https://localhost:8080/"
        },
        "id": "fa1VLcsXAnMg",
        "outputId": "d42516d0-9076-438d-98fe-bb8cca05936c"
      },
      "source": [
        "def fibo(n): # 함수 선언\n",
        "    return fibo(n-1) + fibo(n-2) if n >= 2 else n\n",
        "\n",
        "print('0') #0 출력\n",
        "for n in range(1, 12): #100미만이 89까지 이깅\n",
        "    print(fibo(n))\n",
        "\n",
        "\n",
        "\n"
      ],
      "execution_count": null,
      "outputs": [
        {
          "output_type": "stream",
          "text": [
            "0\n",
            "1\n",
            "1\n",
            "2\n",
            "3\n",
            "5\n",
            "8\n",
            "13\n",
            "21\n",
            "34\n",
            "55\n",
            "89\n"
          ],
          "name": "stdout"
        }
      ]
    },
    {
      "cell_type": "code",
      "metadata": {
        "id": "_RgM7faHBgC2",
        "colab": {
          "base_uri": "https://localhost:8080/",
          "height": 136
        },
        "outputId": "e824cb1f-d1f1-48a4-8408-41cff787be1e"
      },
      "source": [
        "num = eval(input(\"입력하시오: \"))\n",
        "if num - int(num):\n",
        "  print(\"소수입니다.\")\n",
        "else:\n",
        "  print(\"정수입니다.\")\n",
        "except:\n",
        "  print('math error')\n"
      ],
      "execution_count": null,
      "outputs": [
        {
          "output_type": "error",
          "ename": "SyntaxError",
          "evalue": "ignored",
          "traceback": [
            "\u001b[0;36m  File \u001b[0;32m\"<ipython-input-1-b668ca766c20>\"\u001b[0;36m, line \u001b[0;32m6\u001b[0m\n\u001b[0;31m    except:\u001b[0m\n\u001b[0m         ^\u001b[0m\n\u001b[0;31mSyntaxError\u001b[0m\u001b[0;31m:\u001b[0m invalid syntax\n"
          ]
        }
      ]
    },
    {
      "cell_type": "code",
      "metadata": {
        "colab": {
          "base_uri": "https://localhost:8080/",
          "height": 136
        },
        "id": "LwpYLI7BV3tv",
        "outputId": "9487848a-4a21-4ffe-8be7-d0b5f4853f5c"
      },
      "source": [
        "try:\n",
        "  num = eval(input(\"입력하시오: \"))\n",
        "  if num - int(num):\n",
        "    print(\"소수입니다.\")\n",
        "  else:\n",
        "    print(\"정수입니다.\")\n",
        "  except:\n",
        "    print('math error')"
      ],
      "execution_count": null,
      "outputs": [
        {
          "output_type": "error",
          "ename": "SyntaxError",
          "evalue": "ignored",
          "traceback": [
            "\u001b[0;36m  File \u001b[0;32m\"<ipython-input-2-7888eddd98d6>\"\u001b[0;36m, line \u001b[0;32m7\u001b[0m\n\u001b[0;31m    except:\u001b[0m\n\u001b[0m         ^\u001b[0m\n\u001b[0;31mSyntaxError\u001b[0m\u001b[0;31m:\u001b[0m invalid syntax\n"
          ]
        }
      ]
    },
    {
      "cell_type": "code",
      "metadata": {
        "colab": {
          "base_uri": "https://localhost:8080/"
        },
        "id": "sjyqmlp8WDdb",
        "outputId": "341a9eb2-1e12-4f13-df4a-596253a0897b"
      },
      "source": [
        "try:\n",
        "        a=input('숫자를 입력하세요')\n",
        "        int(a)\n",
        "except ValueError: #다른 타입을 정수 타입으로 지정했을 때 실행됨\n",
        "        try:\n",
        "                float(a)\n",
        "        except ValueError: #문자를 소수로 지정했을 때 실행됨\n",
        "                print('math error')\n",
        "        else:\n",
        "                print('소수입니다')\n",
        "else:\n",
        "        print(\"정수입니다\")"
      ],
      "execution_count": null,
      "outputs": [
        {
          "output_type": "stream",
          "text": [
            "숫자를 입력하세요5.5\n",
            "소수입니다\n"
          ],
          "name": "stdout"
        }
      ]
    },
    {
      "cell_type": "code",
      "metadata": {
        "colab": {
          "base_uri": "https://localhost:8080/"
        },
        "id": "lD4aiE_yYa0F",
        "outputId": "51e47147-401f-4277-9267-2ccf71aa7cfc"
      },
      "source": [
        "try:\n",
        "    N=input('숫자를 입력하세요요')\n",
        "    int(N)\n",
        "except ValueError :\n",
        "    try:\n",
        "        float(N)\n",
        "    except: TypeError: print(\"Math Error\") \n",
        "    else: print(\"소수 입니다\")\n",
        "else: print(\"정수 입니다.\")\n"
      ],
      "execution_count": null,
      "outputs": [
        {
          "output_type": "stream",
          "text": [
            "5.5\n",
            "소수\n"
          ],
          "name": "stdout"
        }
      ]
    },
    {
      "cell_type": "code",
      "metadata": {
        "colab": {
          "base_uri": "https://localhost:8080/"
        },
        "id": "BltGDKZAYmOP",
        "outputId": "fb23d30c-c5c0-4cfc-f933-db4f2cfa72ac"
      },
      "source": [
        "# eval은 문자열로 받아 실행하는 함수\n",
        "try:\n",
        "    num=eval(input('입력 : '))  #입력 받기\n",
        "    if num==int(num):print('정수') #만약 입력 받은 문자가 int형이면 정수 출력\n",
        "    else :print('소수') #아니면 소수 출력\n",
        "except: #숫자나 정수가 아닐때는 \n",
        "    print('math error') #math error 출력"
      ],
      "execution_count": null,
      "outputs": [
        {
          "output_type": "stream",
          "text": [
            "입력 : 5.5\n",
            "소수\n"
          ],
          "name": "stdout"
        }
      ]
    },
    {
      "cell_type": "code",
      "metadata": {
        "id": "yLYfjI0iY3lc",
        "colab": {
          "base_uri": "https://localhost:8080/"
        },
        "outputId": "59a054e2-d312-4c50-92e6-e9dfee6bab60"
      },
      "source": [
        "def is_prime(a):\n",
        "  b = range(2,a)\n",
        "  c = 0\n",
        "  for i in b:\n",
        "    if a % i == 0:\n",
        "      c += 1\n",
        "    if c > 0:\n",
        "      print('{} 는 소수가 아니다.' .format(a))\n",
        "      d = False\n",
        "    else:\n",
        "      print('{} 는 소수가 이다.' .format(a))\n",
        "      d - True\n",
        "    return d\n",
        "is_prime(100)\n",
        "       "
      ],
      "execution_count": null,
      "outputs": [
        {
          "output_type": "stream",
          "text": [
            "100 는 소수가 아니다.\n"
          ],
          "name": "stdout"
        },
        {
          "output_type": "execute_result",
          "data": {
            "text/plain": [
              "False"
            ]
          },
          "metadata": {
            "tags": []
          },
          "execution_count": 6
        }
      ]
    },
    {
      "cell_type": "code",
      "metadata": {
        "id": "BIxkbQFTShGL",
        "colab": {
          "base_uri": "https://localhost:8080/",
          "height": 628
        },
        "outputId": "eb311c85-4fb6-4bf2-c36d-6a668029940f"
      },
      "source": [
        "while True: #인터넷 참조했습니다...\n",
        "  user=input(\"Input: \")  #입력\n",
        "  string='abcdefghijklmnopqrstuvwxyz ' #알파벳 나열\n",
        "  number='0123456789' # 숫자 나열\n",
        "  str='' #문자열 선언\n",
        "  int='' #문자열 선언\n",
        "  for i in user: #입력받은 \n",
        "    if i in string or i in string.upper():\n",
        "      str+=i #문자를 저장\n",
        "    if i in number:\n",
        "      int+=i #숫자를 저장\n",
        "  print(\"str: {}\\nint: {}\\n\".format(str,int)) #출력"
      ],
      "execution_count": null,
      "outputs": [
        {
          "output_type": "stream",
          "text": [
            "Input: a1c1s15\n",
            "str: acs\n",
            "int: 1115\n",
            "\n"
          ],
          "name": "stdout"
        },
        {
          "output_type": "error",
          "ename": "KeyboardInterrupt",
          "evalue": "ignored",
          "traceback": [
            "\u001b[0;31m---------------------------------------------------------------------------\u001b[0m",
            "\u001b[0;31mKeyboardInterrupt\u001b[0m                         Traceback (most recent call last)",
            "\u001b[0;32m/usr/local/lib/python3.7/dist-packages/ipykernel/kernelbase.py\u001b[0m in \u001b[0;36m_input_request\u001b[0;34m(self, prompt, ident, parent, password)\u001b[0m\n\u001b[1;32m    728\u001b[0m             \u001b[0;32mtry\u001b[0m\u001b[0;34m:\u001b[0m\u001b[0;34m\u001b[0m\u001b[0;34m\u001b[0m\u001b[0m\n\u001b[0;32m--> 729\u001b[0;31m                 \u001b[0mident\u001b[0m\u001b[0;34m,\u001b[0m \u001b[0mreply\u001b[0m \u001b[0;34m=\u001b[0m \u001b[0mself\u001b[0m\u001b[0;34m.\u001b[0m\u001b[0msession\u001b[0m\u001b[0;34m.\u001b[0m\u001b[0mrecv\u001b[0m\u001b[0;34m(\u001b[0m\u001b[0mself\u001b[0m\u001b[0;34m.\u001b[0m\u001b[0mstdin_socket\u001b[0m\u001b[0;34m,\u001b[0m \u001b[0;36m0\u001b[0m\u001b[0;34m)\u001b[0m\u001b[0;34m\u001b[0m\u001b[0;34m\u001b[0m\u001b[0m\n\u001b[0m\u001b[1;32m    730\u001b[0m             \u001b[0;32mexcept\u001b[0m \u001b[0mException\u001b[0m\u001b[0;34m:\u001b[0m\u001b[0;34m\u001b[0m\u001b[0;34m\u001b[0m\u001b[0m\n",
            "\u001b[0;32m/usr/local/lib/python3.7/dist-packages/jupyter_client/session.py\u001b[0m in \u001b[0;36mrecv\u001b[0;34m(self, socket, mode, content, copy)\u001b[0m\n\u001b[1;32m    802\u001b[0m         \u001b[0;32mtry\u001b[0m\u001b[0;34m:\u001b[0m\u001b[0;34m\u001b[0m\u001b[0;34m\u001b[0m\u001b[0m\n\u001b[0;32m--> 803\u001b[0;31m             \u001b[0mmsg_list\u001b[0m \u001b[0;34m=\u001b[0m \u001b[0msocket\u001b[0m\u001b[0;34m.\u001b[0m\u001b[0mrecv_multipart\u001b[0m\u001b[0;34m(\u001b[0m\u001b[0mmode\u001b[0m\u001b[0;34m,\u001b[0m \u001b[0mcopy\u001b[0m\u001b[0;34m=\u001b[0m\u001b[0mcopy\u001b[0m\u001b[0;34m)\u001b[0m\u001b[0;34m\u001b[0m\u001b[0;34m\u001b[0m\u001b[0m\n\u001b[0m\u001b[1;32m    804\u001b[0m         \u001b[0;32mexcept\u001b[0m \u001b[0mzmq\u001b[0m\u001b[0;34m.\u001b[0m\u001b[0mZMQError\u001b[0m \u001b[0;32mas\u001b[0m \u001b[0me\u001b[0m\u001b[0;34m:\u001b[0m\u001b[0;34m\u001b[0m\u001b[0;34m\u001b[0m\u001b[0m\n",
            "\u001b[0;32m/usr/local/lib/python3.7/dist-packages/zmq/sugar/socket.py\u001b[0m in \u001b[0;36mrecv_multipart\u001b[0;34m(self, flags, copy, track)\u001b[0m\n\u001b[1;32m    582\u001b[0m         \"\"\"\n\u001b[0;32m--> 583\u001b[0;31m         \u001b[0mparts\u001b[0m \u001b[0;34m=\u001b[0m \u001b[0;34m[\u001b[0m\u001b[0mself\u001b[0m\u001b[0;34m.\u001b[0m\u001b[0mrecv\u001b[0m\u001b[0;34m(\u001b[0m\u001b[0mflags\u001b[0m\u001b[0;34m,\u001b[0m \u001b[0mcopy\u001b[0m\u001b[0;34m=\u001b[0m\u001b[0mcopy\u001b[0m\u001b[0;34m,\u001b[0m \u001b[0mtrack\u001b[0m\u001b[0;34m=\u001b[0m\u001b[0mtrack\u001b[0m\u001b[0;34m)\u001b[0m\u001b[0;34m]\u001b[0m\u001b[0;34m\u001b[0m\u001b[0;34m\u001b[0m\u001b[0m\n\u001b[0m\u001b[1;32m    584\u001b[0m         \u001b[0;31m# have first part already, only loop while more to receive\u001b[0m\u001b[0;34m\u001b[0m\u001b[0;34m\u001b[0m\u001b[0;34m\u001b[0m\u001b[0m\n",
            "\u001b[0;32mzmq/backend/cython/socket.pyx\u001b[0m in \u001b[0;36mzmq.backend.cython.socket.Socket.recv\u001b[0;34m()\u001b[0m\n",
            "\u001b[0;32mzmq/backend/cython/socket.pyx\u001b[0m in \u001b[0;36mzmq.backend.cython.socket.Socket.recv\u001b[0;34m()\u001b[0m\n",
            "\u001b[0;32mzmq/backend/cython/socket.pyx\u001b[0m in \u001b[0;36mzmq.backend.cython.socket._recv_copy\u001b[0;34m()\u001b[0m\n",
            "\u001b[0;32m/usr/local/lib/python3.7/dist-packages/zmq/backend/cython/checkrc.pxd\u001b[0m in \u001b[0;36mzmq.backend.cython.checkrc._check_rc\u001b[0;34m()\u001b[0m\n",
            "\u001b[0;31mKeyboardInterrupt\u001b[0m: ",
            "\nDuring handling of the above exception, another exception occurred:\n",
            "\u001b[0;31mKeyboardInterrupt\u001b[0m                         Traceback (most recent call last)",
            "\u001b[0;32m<ipython-input-4-4ce5ba42a75f>\u001b[0m in \u001b[0;36m<module>\u001b[0;34m()\u001b[0m\n\u001b[1;32m      1\u001b[0m \u001b[0;32mwhile\u001b[0m \u001b[0;32mTrue\u001b[0m\u001b[0;34m:\u001b[0m \u001b[0;31m#인터넷 참조했습니다...\u001b[0m\u001b[0;34m\u001b[0m\u001b[0;34m\u001b[0m\u001b[0m\n\u001b[0;32m----> 2\u001b[0;31m   \u001b[0muser\u001b[0m\u001b[0;34m=\u001b[0m\u001b[0minput\u001b[0m\u001b[0;34m(\u001b[0m\u001b[0;34m\"Input: \"\u001b[0m\u001b[0;34m)\u001b[0m  \u001b[0;31m#입력\u001b[0m\u001b[0;34m\u001b[0m\u001b[0;34m\u001b[0m\u001b[0m\n\u001b[0m\u001b[1;32m      3\u001b[0m   \u001b[0mstring\u001b[0m\u001b[0;34m=\u001b[0m\u001b[0;34m'abcdefghijklmnopqrstuvwxyz '\u001b[0m \u001b[0;31m#알파벳 나열\u001b[0m\u001b[0;34m\u001b[0m\u001b[0;34m\u001b[0m\u001b[0m\n\u001b[1;32m      4\u001b[0m   \u001b[0mnumber\u001b[0m\u001b[0;34m=\u001b[0m\u001b[0;34m'0123456789'\u001b[0m \u001b[0;31m# 숫자 나열\u001b[0m\u001b[0;34m\u001b[0m\u001b[0;34m\u001b[0m\u001b[0m\n\u001b[1;32m      5\u001b[0m   \u001b[0mstr\u001b[0m\u001b[0;34m=\u001b[0m\u001b[0;34m''\u001b[0m \u001b[0;31m#문자열 선언\u001b[0m\u001b[0;34m\u001b[0m\u001b[0;34m\u001b[0m\u001b[0m\n",
            "\u001b[0;32m/usr/local/lib/python3.7/dist-packages/ipykernel/kernelbase.py\u001b[0m in \u001b[0;36mraw_input\u001b[0;34m(self, prompt)\u001b[0m\n\u001b[1;32m    702\u001b[0m             \u001b[0mself\u001b[0m\u001b[0;34m.\u001b[0m\u001b[0m_parent_ident\u001b[0m\u001b[0;34m,\u001b[0m\u001b[0;34m\u001b[0m\u001b[0;34m\u001b[0m\u001b[0m\n\u001b[1;32m    703\u001b[0m             \u001b[0mself\u001b[0m\u001b[0;34m.\u001b[0m\u001b[0m_parent_header\u001b[0m\u001b[0;34m,\u001b[0m\u001b[0;34m\u001b[0m\u001b[0;34m\u001b[0m\u001b[0m\n\u001b[0;32m--> 704\u001b[0;31m             \u001b[0mpassword\u001b[0m\u001b[0;34m=\u001b[0m\u001b[0;32mFalse\u001b[0m\u001b[0;34m,\u001b[0m\u001b[0;34m\u001b[0m\u001b[0;34m\u001b[0m\u001b[0m\n\u001b[0m\u001b[1;32m    705\u001b[0m         )\n\u001b[1;32m    706\u001b[0m \u001b[0;34m\u001b[0m\u001b[0m\n",
            "\u001b[0;32m/usr/local/lib/python3.7/dist-packages/ipykernel/kernelbase.py\u001b[0m in \u001b[0;36m_input_request\u001b[0;34m(self, prompt, ident, parent, password)\u001b[0m\n\u001b[1;32m    732\u001b[0m             \u001b[0;32mexcept\u001b[0m \u001b[0mKeyboardInterrupt\u001b[0m\u001b[0;34m:\u001b[0m\u001b[0;34m\u001b[0m\u001b[0;34m\u001b[0m\u001b[0m\n\u001b[1;32m    733\u001b[0m                 \u001b[0;31m# re-raise KeyboardInterrupt, to truncate traceback\u001b[0m\u001b[0;34m\u001b[0m\u001b[0;34m\u001b[0m\u001b[0;34m\u001b[0m\u001b[0m\n\u001b[0;32m--> 734\u001b[0;31m                 \u001b[0;32mraise\u001b[0m \u001b[0mKeyboardInterrupt\u001b[0m\u001b[0;34m\u001b[0m\u001b[0;34m\u001b[0m\u001b[0m\n\u001b[0m\u001b[1;32m    735\u001b[0m             \u001b[0;32melse\u001b[0m\u001b[0;34m:\u001b[0m\u001b[0;34m\u001b[0m\u001b[0;34m\u001b[0m\u001b[0m\n\u001b[1;32m    736\u001b[0m                 \u001b[0;32mbreak\u001b[0m\u001b[0;34m\u001b[0m\u001b[0;34m\u001b[0m\u001b[0m\n",
            "\u001b[0;31mKeyboardInterrupt\u001b[0m: "
          ]
        }
      ]
    },
    {
      "cell_type": "code",
      "metadata": {
        "id": "bH-cvTnuy1Nn",
        "colab": {
          "base_uri": "https://localhost:8080/"
        },
        "outputId": "1ee9231d-6171-41dd-ba48-6989bdca8b3e"
      },
      "source": [
        "\n",
        "name = \"이유덕,이재영,권종표,이재영,박민호,강상희,이재영,김지완,최승혁,이성연,박영서,박민호,전경헌,송정환,김재성,이유덕,전경헌\".split(\",\")\n",
        "\n",
        "#1 김씨 이씨 몇명\n",
        "a=[ i[0] for i in name ]\n",
        "print(\"김씨 : %d\\n이씨 : %d\\n\"%(a.count(\"김\"), a.count(\"이\")))\n",
        "\n",
        "#2 이재영 몇번\n",
        "print(name.count(\"이재영\"))\n",
        "\n",
        "#3 중복 제거 리스트\n",
        "names = list(set(name))\n",
        "print(names)\n",
        "\n",
        "#4 중복 제거 후 오름차순 정렬\n",
        "names.sort()\n",
        "print(names)"
      ],
      "execution_count": null,
      "outputs": [
        {
          "output_type": "stream",
          "text": [
            "김씨 : 2\n",
            "이씨 : 6\n",
            "\n",
            "3\n",
            "['박영서', '강상희', '김재성', '이재영', '김지완', '박민호', '이유덕', '송정환', '전경헌', '권종표', '최승혁', '이성연']\n",
            "['강상희', '권종표', '김재성', '김지완', '박민호', '박영서', '송정환', '이성연', '이유덕', '이재영', '전경헌', '최승혁']\n"
          ],
          "name": "stdout"
        }
      ]
    },
    {
      "cell_type": "code",
      "metadata": {
        "id": "keNrOuZg7iZZ",
        "colab": {
          "base_uri": "https://localhost:8080/"
        },
        "outputId": "1111246f-cfeb-4bdf-90c5-ba7eed4fa2ff"
      },
      "source": [
        "\n",
        "sum=0 # 저장할 변수 선언\n",
        "for hour in range(24) : # 시간\n",
        "  for minute in range(60) : #분\n",
        "    if '3' in str(hour) or '3' in str(minute) : # 시간 분에 3이 들어가면\n",
        "      sum += 60 # 60초 더함\n",
        "print(sum)"
      ],
      "execution_count": null,
      "outputs": [
        {
          "output_type": "stream",
          "text": [
            "29700\n"
          ],
          "name": "stdout"
        }
      ]
    },
    {
      "cell_type": "code",
      "metadata": {
        "colab": {
          "base_uri": "https://localhost:8080/"
        },
        "id": "m7-eG0cL_TU_",
        "outputId": "3d0f46da-b04a-420d-e674-3e2d26cbacc3"
      },
      "source": [
        "x = 'Python 2 and Python 3'\n",
        "print(x.strip('thon 3'))"
      ],
      "execution_count": null,
      "outputs": [
        {
          "output_type": "stream",
          "text": [
            "Python 2 and Py\n"
          ],
          "name": "stdout"
        }
      ]
    },
    {
      "cell_type": "code",
      "metadata": {
        "colab": {
          "base_uri": "https://localhost:8080/"
        },
        "id": "cQmkmaeaBtqw",
        "outputId": "07bd374e-4aee-4da8-ace1-9dc53da31560"
      },
      "source": [
        "x = 'Python Jobs'\n",
        "y = x.upper().lower().isupper()\n",
        "print(y)"
      ],
      "execution_count": null,
      "outputs": [
        {
          "output_type": "stream",
          "text": [
            "False\n"
          ],
          "name": "stdout"
        }
      ]
    },
    {
      "cell_type": "code",
      "metadata": {
        "colab": {
          "base_uri": "https://localhost:8080/"
        },
        "id": "aQO7ZGV9B5eU",
        "outputId": "109521d7-4bbf-41ce-a0e4-80d6861d3b64"
      },
      "source": [
        "x = 'Python Jobs'\n",
        "if x.lower()  == 'python jobs':\n",
        "  print('Python jobs')\n",
        "else:\n",
        "  print('python  jobs')"
      ],
      "execution_count": null,
      "outputs": [
        {
          "output_type": "stream",
          "text": [
            "Python jobs\n"
          ],
          "name": "stdout"
        }
      ]
    },
    {
      "cell_type": "code",
      "metadata": {
        "colab": {
          "base_uri": "https://localhost:8080/"
        },
        "id": "94IiPzPHCHCj",
        "outputId": "95ead4c5-9803-4421-f2d6-36791db8c133"
      },
      "source": [
        "x = {'year' : 2016, 'month': 'March'}\n",
        "x.setdefault('day', 'Tuesday')\n",
        "x.setdefault('day', 'Monday')\n",
        "print(x)"
      ],
      "execution_count": null,
      "outputs": [
        {
          "output_type": "stream",
          "text": [
            "{'year': 2016, 'month': 'March', 'day': 'Tuesday'}\n"
          ],
          "name": "stdout"
        }
      ]
    },
    {
      "cell_type": "code",
      "metadata": {
        "colab": {
          "base_uri": "https://localhost:8080/"
        },
        "id": "jXWakcOoCWaf",
        "outputId": "651bf152-d4d0-4477-914c-95fc8adb5756"
      },
      "source": [
        "import copy\n",
        "x = [5,4,3,2,1]\n",
        "y = [7,8,9]\n",
        "z = [x,y]\n",
        "a = copy.copy(z)\n",
        "x[2] = 6\n",
        "print(a)\n"
      ],
      "execution_count": null,
      "outputs": [
        {
          "output_type": "stream",
          "text": [
            "[[5, 4, 6, 2, 1], [7, 8, 9]]\n"
          ],
          "name": "stdout"
        }
      ]
    },
    {
      "cell_type": "code",
      "metadata": {
        "colab": {
          "base_uri": "https://localhost:8080/",
          "height": 208
        },
        "id": "457UjDleCtV_",
        "outputId": "d090fdfc-8562-444c-f595-27597eec4951"
      },
      "source": [
        "def abc(k):\n",
        "  k.append(44)\n",
        "  q = [7,8,9]\n",
        "  abc(q)\n",
        "print(q)"
      ],
      "execution_count": null,
      "outputs": [
        {
          "output_type": "error",
          "ename": "NameError",
          "evalue": "ignored",
          "traceback": [
            "\u001b[0;31m---------------------------------------------------------------------------\u001b[0m",
            "\u001b[0;31mNameError\u001b[0m                                 Traceback (most recent call last)",
            "\u001b[0;32m<ipython-input-17-a2196731c324>\u001b[0m in \u001b[0;36m<module>\u001b[0;34m()\u001b[0m\n\u001b[1;32m      3\u001b[0m   \u001b[0mq\u001b[0m \u001b[0;34m=\u001b[0m \u001b[0;34m[\u001b[0m\u001b[0;36m7\u001b[0m\u001b[0;34m,\u001b[0m\u001b[0;36m8\u001b[0m\u001b[0;34m,\u001b[0m\u001b[0;36m9\u001b[0m\u001b[0;34m]\u001b[0m\u001b[0;34m\u001b[0m\u001b[0;34m\u001b[0m\u001b[0m\n\u001b[1;32m      4\u001b[0m   \u001b[0mabc\u001b[0m\u001b[0;34m(\u001b[0m\u001b[0mq\u001b[0m\u001b[0;34m)\u001b[0m\u001b[0;34m\u001b[0m\u001b[0;34m\u001b[0m\u001b[0m\n\u001b[0;32m----> 5\u001b[0;31m \u001b[0mprint\u001b[0m\u001b[0;34m(\u001b[0m\u001b[0mq\u001b[0m\u001b[0;34m)\u001b[0m\u001b[0;34m\u001b[0m\u001b[0;34m\u001b[0m\u001b[0m\n\u001b[0m",
            "\u001b[0;31mNameError\u001b[0m: name 'q' is not defined"
          ]
        }
      ]
    },
    {
      "cell_type": "code",
      "metadata": {
        "colab": {
          "base_uri": "https://localhost:8080/"
        },
        "id": "4v_RML9qC2Na",
        "outputId": "c093e57f-5df9-4c47-bda2-47c984fdb0bf"
      },
      "source": [
        "x = [4,5,7,8,9]\n",
        "y = x\n",
        "y[1] = 6\n",
        "print(y)"
      ],
      "execution_count": null,
      "outputs": [
        {
          "output_type": "stream",
          "text": [
            "[4, 6, 7, 8, 9]\n"
          ],
          "name": "stdout"
        }
      ]
    },
    {
      "cell_type": "code",
      "metadata": {
        "colab": {
          "base_uri": "https://localhost:8080/"
        },
        "id": "57aq4AQGDSb_",
        "outputId": "4b146907-6b98-4cae-b78e-9f88a05a0aa9"
      },
      "source": [
        "x = [1,2,3,4]\n",
        "y  = tuple(x)\n",
        "z = list(y)\n",
        "type(z)"
      ],
      "execution_count": null,
      "outputs": [
        {
          "output_type": "execute_result",
          "data": {
            "text/plain": [
              "list"
            ]
          },
          "metadata": {
            "tags": []
          },
          "execution_count": 21
        }
      ]
    },
    {
      "cell_type": "code",
      "metadata": {
        "colab": {
          "base_uri": "https://localhost:8080/"
        },
        "id": "8QkYRdJ1DahO",
        "outputId": "19ffaef2-5a5d-4b53-a9c1-2a6252e00374"
      },
      "source": [
        "x = 'Python'\n",
        "print(tuple(x))\n"
      ],
      "execution_count": null,
      "outputs": [
        {
          "output_type": "stream",
          "text": [
            "('P', 'y', 't', 'h', 'o', 'n')\n"
          ],
          "name": "stdout"
        }
      ]
    },
    {
      "cell_type": "code",
      "metadata": {
        "colab": {
          "base_uri": "https://localhost:8080/",
          "height": 190
        },
        "id": "cr_iKs0SDpSh",
        "outputId": "78a528ed-b1c9-470e-d8f9-c5a7dd5b6a27"
      },
      "source": [
        "x = {'day': 'Sunday', 'week': 10}\n",
        "print(x['year'])"
      ],
      "execution_count": null,
      "outputs": [
        {
          "output_type": "error",
          "ename": "KeyError",
          "evalue": "ignored",
          "traceback": [
            "\u001b[0;31m---------------------------------------------------------------------------\u001b[0m",
            "\u001b[0;31mKeyError\u001b[0m                                  Traceback (most recent call last)",
            "\u001b[0;32m<ipython-input-23-3b7b6aa98e02>\u001b[0m in \u001b[0;36m<module>\u001b[0;34m()\u001b[0m\n\u001b[1;32m      1\u001b[0m \u001b[0mx\u001b[0m \u001b[0;34m=\u001b[0m \u001b[0;34m{\u001b[0m\u001b[0;34m'day'\u001b[0m\u001b[0;34m:\u001b[0m \u001b[0;34m'Sunday'\u001b[0m\u001b[0;34m,\u001b[0m \u001b[0;34m'week'\u001b[0m\u001b[0;34m:\u001b[0m \u001b[0;36m10\u001b[0m\u001b[0;34m}\u001b[0m\u001b[0;34m\u001b[0m\u001b[0;34m\u001b[0m\u001b[0m\n\u001b[0;32m----> 2\u001b[0;31m \u001b[0mprint\u001b[0m\u001b[0;34m(\u001b[0m\u001b[0mx\u001b[0m\u001b[0;34m[\u001b[0m\u001b[0;34m'year'\u001b[0m\u001b[0;34m]\u001b[0m\u001b[0;34m)\u001b[0m\u001b[0;34m\u001b[0m\u001b[0;34m\u001b[0m\u001b[0m\n\u001b[0m",
            "\u001b[0;31mKeyError\u001b[0m: 'year'"
          ]
        }
      ]
    },
    {
      "cell_type": "code",
      "metadata": {
        "colab": {
          "base_uri": "https://localhost:8080/",
          "height": 646
        },
        "id": "U_8VplEFFlmd",
        "outputId": "173af37e-e79a-44b8-e293-2ad86930a787"
      },
      "source": [
        "while 1: \n",
        "  user=input(\"Input: \")  #입력\n",
        "  string='abcdefghijklmnopqrstuvwxyz' #알파벳 나열\n",
        "  number='0123456789' # 숫자 나열\n",
        "  \n",
        "  str='' #문자열 선언\n",
        "  int='' #문자열 선언\n",
        "  char='' #문자열 선언\n",
        "  for i in user: #입력받은 \n",
        "    if i in string or i in string.upper():\n",
        "      str+=i #문자를 저장\n",
        "    elif i in number:\n",
        "      int+=i #숫자를 저장\n",
        "    else: #나머지(특수문자)\n",
        "      char+=i\n",
        "  print(\"str: {}\\nint: {}\\nspe: {}\\n\".format(str,int,char)) #출력\n"
      ],
      "execution_count": null,
      "outputs": [
        {
          "output_type": "stream",
          "text": [
            "Input: **Docoding132456789everyday##\n",
            "str: Docodingeveryday\n",
            "int: 132456789\n",
            "spe: **##\n",
            "\n"
          ],
          "name": "stdout"
        },
        {
          "output_type": "error",
          "ename": "KeyboardInterrupt",
          "evalue": "ignored",
          "traceback": [
            "\u001b[0;31m---------------------------------------------------------------------------\u001b[0m",
            "\u001b[0;31mKeyboardInterrupt\u001b[0m                         Traceback (most recent call last)",
            "\u001b[0;32m/usr/local/lib/python3.7/dist-packages/ipykernel/kernelbase.py\u001b[0m in \u001b[0;36m_input_request\u001b[0;34m(self, prompt, ident, parent, password)\u001b[0m\n\u001b[1;32m    728\u001b[0m             \u001b[0;32mtry\u001b[0m\u001b[0;34m:\u001b[0m\u001b[0;34m\u001b[0m\u001b[0;34m\u001b[0m\u001b[0m\n\u001b[0;32m--> 729\u001b[0;31m                 \u001b[0mident\u001b[0m\u001b[0;34m,\u001b[0m \u001b[0mreply\u001b[0m \u001b[0;34m=\u001b[0m \u001b[0mself\u001b[0m\u001b[0;34m.\u001b[0m\u001b[0msession\u001b[0m\u001b[0;34m.\u001b[0m\u001b[0mrecv\u001b[0m\u001b[0;34m(\u001b[0m\u001b[0mself\u001b[0m\u001b[0;34m.\u001b[0m\u001b[0mstdin_socket\u001b[0m\u001b[0;34m,\u001b[0m \u001b[0;36m0\u001b[0m\u001b[0;34m)\u001b[0m\u001b[0;34m\u001b[0m\u001b[0;34m\u001b[0m\u001b[0m\n\u001b[0m\u001b[1;32m    730\u001b[0m             \u001b[0;32mexcept\u001b[0m \u001b[0mException\u001b[0m\u001b[0;34m:\u001b[0m\u001b[0;34m\u001b[0m\u001b[0;34m\u001b[0m\u001b[0m\n",
            "\u001b[0;32m/usr/local/lib/python3.7/dist-packages/jupyter_client/session.py\u001b[0m in \u001b[0;36mrecv\u001b[0;34m(self, socket, mode, content, copy)\u001b[0m\n\u001b[1;32m    802\u001b[0m         \u001b[0;32mtry\u001b[0m\u001b[0;34m:\u001b[0m\u001b[0;34m\u001b[0m\u001b[0;34m\u001b[0m\u001b[0m\n\u001b[0;32m--> 803\u001b[0;31m             \u001b[0mmsg_list\u001b[0m \u001b[0;34m=\u001b[0m \u001b[0msocket\u001b[0m\u001b[0;34m.\u001b[0m\u001b[0mrecv_multipart\u001b[0m\u001b[0;34m(\u001b[0m\u001b[0mmode\u001b[0m\u001b[0;34m,\u001b[0m \u001b[0mcopy\u001b[0m\u001b[0;34m=\u001b[0m\u001b[0mcopy\u001b[0m\u001b[0;34m)\u001b[0m\u001b[0;34m\u001b[0m\u001b[0;34m\u001b[0m\u001b[0m\n\u001b[0m\u001b[1;32m    804\u001b[0m         \u001b[0;32mexcept\u001b[0m \u001b[0mzmq\u001b[0m\u001b[0;34m.\u001b[0m\u001b[0mZMQError\u001b[0m \u001b[0;32mas\u001b[0m \u001b[0me\u001b[0m\u001b[0;34m:\u001b[0m\u001b[0;34m\u001b[0m\u001b[0;34m\u001b[0m\u001b[0m\n",
            "\u001b[0;32m/usr/local/lib/python3.7/dist-packages/zmq/sugar/socket.py\u001b[0m in \u001b[0;36mrecv_multipart\u001b[0;34m(self, flags, copy, track)\u001b[0m\n\u001b[1;32m    582\u001b[0m         \"\"\"\n\u001b[0;32m--> 583\u001b[0;31m         \u001b[0mparts\u001b[0m \u001b[0;34m=\u001b[0m \u001b[0;34m[\u001b[0m\u001b[0mself\u001b[0m\u001b[0;34m.\u001b[0m\u001b[0mrecv\u001b[0m\u001b[0;34m(\u001b[0m\u001b[0mflags\u001b[0m\u001b[0;34m,\u001b[0m \u001b[0mcopy\u001b[0m\u001b[0;34m=\u001b[0m\u001b[0mcopy\u001b[0m\u001b[0;34m,\u001b[0m \u001b[0mtrack\u001b[0m\u001b[0;34m=\u001b[0m\u001b[0mtrack\u001b[0m\u001b[0;34m)\u001b[0m\u001b[0;34m]\u001b[0m\u001b[0;34m\u001b[0m\u001b[0;34m\u001b[0m\u001b[0m\n\u001b[0m\u001b[1;32m    584\u001b[0m         \u001b[0;31m# have first part already, only loop while more to receive\u001b[0m\u001b[0;34m\u001b[0m\u001b[0;34m\u001b[0m\u001b[0;34m\u001b[0m\u001b[0m\n",
            "\u001b[0;32mzmq/backend/cython/socket.pyx\u001b[0m in \u001b[0;36mzmq.backend.cython.socket.Socket.recv\u001b[0;34m()\u001b[0m\n",
            "\u001b[0;32mzmq/backend/cython/socket.pyx\u001b[0m in \u001b[0;36mzmq.backend.cython.socket.Socket.recv\u001b[0;34m()\u001b[0m\n",
            "\u001b[0;32mzmq/backend/cython/socket.pyx\u001b[0m in \u001b[0;36mzmq.backend.cython.socket._recv_copy\u001b[0;34m()\u001b[0m\n",
            "\u001b[0;32m/usr/local/lib/python3.7/dist-packages/zmq/backend/cython/checkrc.pxd\u001b[0m in \u001b[0;36mzmq.backend.cython.checkrc._check_rc\u001b[0;34m()\u001b[0m\n",
            "\u001b[0;31mKeyboardInterrupt\u001b[0m: ",
            "\nDuring handling of the above exception, another exception occurred:\n",
            "\u001b[0;31mKeyboardInterrupt\u001b[0m                         Traceback (most recent call last)",
            "\u001b[0;32m<ipython-input-34-a0b7fd0ee1c6>\u001b[0m in \u001b[0;36m<module>\u001b[0;34m()\u001b[0m\n\u001b[1;32m      1\u001b[0m \u001b[0;32mwhile\u001b[0m \u001b[0;36m1\u001b[0m\u001b[0;34m:\u001b[0m\u001b[0;34m\u001b[0m\u001b[0;34m\u001b[0m\u001b[0m\n\u001b[0;32m----> 2\u001b[0;31m   \u001b[0muser\u001b[0m\u001b[0;34m=\u001b[0m\u001b[0minput\u001b[0m\u001b[0;34m(\u001b[0m\u001b[0;34m\"Input: \"\u001b[0m\u001b[0;34m)\u001b[0m  \u001b[0;31m#입력\u001b[0m\u001b[0;34m\u001b[0m\u001b[0;34m\u001b[0m\u001b[0m\n\u001b[0m\u001b[1;32m      3\u001b[0m   \u001b[0mstring\u001b[0m\u001b[0;34m=\u001b[0m\u001b[0;34m'abcdefghijklmnopqrstuvwxyz'\u001b[0m \u001b[0;31m#알파벳 나열\u001b[0m\u001b[0;34m\u001b[0m\u001b[0;34m\u001b[0m\u001b[0m\n\u001b[1;32m      4\u001b[0m   \u001b[0mnumber\u001b[0m\u001b[0;34m=\u001b[0m\u001b[0;34m'0123456789'\u001b[0m \u001b[0;31m# 숫자 나열\u001b[0m\u001b[0;34m\u001b[0m\u001b[0;34m\u001b[0m\u001b[0m\n\u001b[1;32m      5\u001b[0m \u001b[0;34m\u001b[0m\u001b[0m\n",
            "\u001b[0;32m/usr/local/lib/python3.7/dist-packages/ipykernel/kernelbase.py\u001b[0m in \u001b[0;36mraw_input\u001b[0;34m(self, prompt)\u001b[0m\n\u001b[1;32m    702\u001b[0m             \u001b[0mself\u001b[0m\u001b[0;34m.\u001b[0m\u001b[0m_parent_ident\u001b[0m\u001b[0;34m,\u001b[0m\u001b[0;34m\u001b[0m\u001b[0;34m\u001b[0m\u001b[0m\n\u001b[1;32m    703\u001b[0m             \u001b[0mself\u001b[0m\u001b[0;34m.\u001b[0m\u001b[0m_parent_header\u001b[0m\u001b[0;34m,\u001b[0m\u001b[0;34m\u001b[0m\u001b[0;34m\u001b[0m\u001b[0m\n\u001b[0;32m--> 704\u001b[0;31m             \u001b[0mpassword\u001b[0m\u001b[0;34m=\u001b[0m\u001b[0;32mFalse\u001b[0m\u001b[0;34m,\u001b[0m\u001b[0;34m\u001b[0m\u001b[0;34m\u001b[0m\u001b[0m\n\u001b[0m\u001b[1;32m    705\u001b[0m         )\n\u001b[1;32m    706\u001b[0m \u001b[0;34m\u001b[0m\u001b[0m\n",
            "\u001b[0;32m/usr/local/lib/python3.7/dist-packages/ipykernel/kernelbase.py\u001b[0m in \u001b[0;36m_input_request\u001b[0;34m(self, prompt, ident, parent, password)\u001b[0m\n\u001b[1;32m    732\u001b[0m             \u001b[0;32mexcept\u001b[0m \u001b[0mKeyboardInterrupt\u001b[0m\u001b[0;34m:\u001b[0m\u001b[0;34m\u001b[0m\u001b[0;34m\u001b[0m\u001b[0m\n\u001b[1;32m    733\u001b[0m                 \u001b[0;31m# re-raise KeyboardInterrupt, to truncate traceback\u001b[0m\u001b[0;34m\u001b[0m\u001b[0;34m\u001b[0m\u001b[0;34m\u001b[0m\u001b[0m\n\u001b[0;32m--> 734\u001b[0;31m                 \u001b[0;32mraise\u001b[0m \u001b[0mKeyboardInterrupt\u001b[0m\u001b[0;34m\u001b[0m\u001b[0;34m\u001b[0m\u001b[0m\n\u001b[0m\u001b[1;32m    735\u001b[0m             \u001b[0;32melse\u001b[0m\u001b[0;34m:\u001b[0m\u001b[0;34m\u001b[0m\u001b[0;34m\u001b[0m\u001b[0m\n\u001b[1;32m    736\u001b[0m                 \u001b[0;32mbreak\u001b[0m\u001b[0;34m\u001b[0m\u001b[0;34m\u001b[0m\u001b[0m\n",
            "\u001b[0;31mKeyboardInterrupt\u001b[0m: "
          ]
        }
      ]
    },
    {
      "cell_type": "code",
      "metadata": {
        "id": "AKmZl4bMIPrh",
        "colab": {
          "base_uri": "https://localhost:8080/",
          "height": 394
        },
        "outputId": "8ca50ca4-39c6-4344-f472-ee34550e6d0a"
      },
      "source": [
        "import re\n",
        "\n",
        "alp = re.compile('[a-zA-z}')\n",
        "num = re.compile('\\d')\n",
        "\n",
        "a = input()\n",
        "b = '' #문자\n",
        "c = '' #숫자\n",
        "d = '' #기호\n",
        "\n",
        "for i in range(len(a)):\n",
        "  if alp.match(a[i]):\n",
        "    b = b+a[i] #문자\n",
        "  elif num.match(a[i]):\n",
        "    c = c+a[i] #숫자\n",
        "  else:\n",
        "    d = d+a[i] #기호\n",
        "\n",
        "print(\"%s \\n%s \\n%s \\n\" % b,c,d)"
      ],
      "execution_count": null,
      "outputs": [
        {
          "output_type": "error",
          "ename": "error",
          "evalue": "ignored",
          "traceback": [
            "\u001b[0;31m---------------------------------------------------------------------------\u001b[0m",
            "\u001b[0;31merror\u001b[0m                                     Traceback (most recent call last)",
            "\u001b[0;32m<ipython-input-4-bd2a499b5737>\u001b[0m in \u001b[0;36m<module>\u001b[0;34m()\u001b[0m\n\u001b[1;32m      1\u001b[0m \u001b[0;32mimport\u001b[0m \u001b[0mre\u001b[0m\u001b[0;34m\u001b[0m\u001b[0;34m\u001b[0m\u001b[0m\n\u001b[1;32m      2\u001b[0m \u001b[0;34m\u001b[0m\u001b[0m\n\u001b[0;32m----> 3\u001b[0;31m \u001b[0malp\u001b[0m \u001b[0;34m=\u001b[0m \u001b[0mre\u001b[0m\u001b[0;34m.\u001b[0m\u001b[0mcompile\u001b[0m\u001b[0;34m(\u001b[0m\u001b[0;34m'[a-zA-z}'\u001b[0m\u001b[0;34m)\u001b[0m\u001b[0;34m\u001b[0m\u001b[0;34m\u001b[0m\u001b[0m\n\u001b[0m\u001b[1;32m      4\u001b[0m \u001b[0mnum\u001b[0m \u001b[0;34m=\u001b[0m \u001b[0mre\u001b[0m\u001b[0;34m.\u001b[0m\u001b[0mcompile\u001b[0m\u001b[0;34m(\u001b[0m\u001b[0;34m'\\d'\u001b[0m\u001b[0;34m)\u001b[0m\u001b[0;34m\u001b[0m\u001b[0;34m\u001b[0m\u001b[0m\n\u001b[1;32m      5\u001b[0m \u001b[0;34m\u001b[0m\u001b[0m\n",
            "\u001b[0;32m/usr/lib/python3.7/re.py\u001b[0m in \u001b[0;36mcompile\u001b[0;34m(pattern, flags)\u001b[0m\n\u001b[1;32m    234\u001b[0m \u001b[0;32mdef\u001b[0m \u001b[0mcompile\u001b[0m\u001b[0;34m(\u001b[0m\u001b[0mpattern\u001b[0m\u001b[0;34m,\u001b[0m \u001b[0mflags\u001b[0m\u001b[0;34m=\u001b[0m\u001b[0;36m0\u001b[0m\u001b[0;34m)\u001b[0m\u001b[0;34m:\u001b[0m\u001b[0;34m\u001b[0m\u001b[0;34m\u001b[0m\u001b[0m\n\u001b[1;32m    235\u001b[0m     \u001b[0;34m\"Compile a regular expression pattern, returning a Pattern object.\"\u001b[0m\u001b[0;34m\u001b[0m\u001b[0;34m\u001b[0m\u001b[0m\n\u001b[0;32m--> 236\u001b[0;31m     \u001b[0;32mreturn\u001b[0m \u001b[0m_compile\u001b[0m\u001b[0;34m(\u001b[0m\u001b[0mpattern\u001b[0m\u001b[0;34m,\u001b[0m \u001b[0mflags\u001b[0m\u001b[0;34m)\u001b[0m\u001b[0;34m\u001b[0m\u001b[0;34m\u001b[0m\u001b[0m\n\u001b[0m\u001b[1;32m    237\u001b[0m \u001b[0;34m\u001b[0m\u001b[0m\n\u001b[1;32m    238\u001b[0m \u001b[0;32mdef\u001b[0m \u001b[0mpurge\u001b[0m\u001b[0;34m(\u001b[0m\u001b[0;34m)\u001b[0m\u001b[0;34m:\u001b[0m\u001b[0;34m\u001b[0m\u001b[0;34m\u001b[0m\u001b[0m\n",
            "\u001b[0;32m/usr/lib/python3.7/re.py\u001b[0m in \u001b[0;36m_compile\u001b[0;34m(pattern, flags)\u001b[0m\n\u001b[1;32m    286\u001b[0m     \u001b[0;32mif\u001b[0m \u001b[0;32mnot\u001b[0m \u001b[0msre_compile\u001b[0m\u001b[0;34m.\u001b[0m\u001b[0misstring\u001b[0m\u001b[0;34m(\u001b[0m\u001b[0mpattern\u001b[0m\u001b[0;34m)\u001b[0m\u001b[0;34m:\u001b[0m\u001b[0;34m\u001b[0m\u001b[0;34m\u001b[0m\u001b[0m\n\u001b[1;32m    287\u001b[0m         \u001b[0;32mraise\u001b[0m \u001b[0mTypeError\u001b[0m\u001b[0;34m(\u001b[0m\u001b[0;34m\"first argument must be string or compiled pattern\"\u001b[0m\u001b[0;34m)\u001b[0m\u001b[0;34m\u001b[0m\u001b[0;34m\u001b[0m\u001b[0m\n\u001b[0;32m--> 288\u001b[0;31m     \u001b[0mp\u001b[0m \u001b[0;34m=\u001b[0m \u001b[0msre_compile\u001b[0m\u001b[0;34m.\u001b[0m\u001b[0mcompile\u001b[0m\u001b[0;34m(\u001b[0m\u001b[0mpattern\u001b[0m\u001b[0;34m,\u001b[0m \u001b[0mflags\u001b[0m\u001b[0;34m)\u001b[0m\u001b[0;34m\u001b[0m\u001b[0;34m\u001b[0m\u001b[0m\n\u001b[0m\u001b[1;32m    289\u001b[0m     \u001b[0;32mif\u001b[0m \u001b[0;32mnot\u001b[0m \u001b[0;34m(\u001b[0m\u001b[0mflags\u001b[0m \u001b[0;34m&\u001b[0m \u001b[0mDEBUG\u001b[0m\u001b[0;34m)\u001b[0m\u001b[0;34m:\u001b[0m\u001b[0;34m\u001b[0m\u001b[0;34m\u001b[0m\u001b[0m\n\u001b[1;32m    290\u001b[0m         \u001b[0;32mif\u001b[0m \u001b[0mlen\u001b[0m\u001b[0;34m(\u001b[0m\u001b[0m_cache\u001b[0m\u001b[0;34m)\u001b[0m \u001b[0;34m>=\u001b[0m \u001b[0m_MAXCACHE\u001b[0m\u001b[0;34m:\u001b[0m\u001b[0;34m\u001b[0m\u001b[0;34m\u001b[0m\u001b[0m\n",
            "\u001b[0;32m/usr/lib/python3.7/sre_compile.py\u001b[0m in \u001b[0;36mcompile\u001b[0;34m(p, flags)\u001b[0m\n\u001b[1;32m    762\u001b[0m     \u001b[0;32mif\u001b[0m \u001b[0misstring\u001b[0m\u001b[0;34m(\u001b[0m\u001b[0mp\u001b[0m\u001b[0;34m)\u001b[0m\u001b[0;34m:\u001b[0m\u001b[0;34m\u001b[0m\u001b[0;34m\u001b[0m\u001b[0m\n\u001b[1;32m    763\u001b[0m         \u001b[0mpattern\u001b[0m \u001b[0;34m=\u001b[0m \u001b[0mp\u001b[0m\u001b[0;34m\u001b[0m\u001b[0;34m\u001b[0m\u001b[0m\n\u001b[0;32m--> 764\u001b[0;31m         \u001b[0mp\u001b[0m \u001b[0;34m=\u001b[0m \u001b[0msre_parse\u001b[0m\u001b[0;34m.\u001b[0m\u001b[0mparse\u001b[0m\u001b[0;34m(\u001b[0m\u001b[0mp\u001b[0m\u001b[0;34m,\u001b[0m \u001b[0mflags\u001b[0m\u001b[0;34m)\u001b[0m\u001b[0;34m\u001b[0m\u001b[0;34m\u001b[0m\u001b[0m\n\u001b[0m\u001b[1;32m    765\u001b[0m     \u001b[0;32melse\u001b[0m\u001b[0;34m:\u001b[0m\u001b[0;34m\u001b[0m\u001b[0;34m\u001b[0m\u001b[0m\n\u001b[1;32m    766\u001b[0m         \u001b[0mpattern\u001b[0m \u001b[0;34m=\u001b[0m \u001b[0;32mNone\u001b[0m\u001b[0;34m\u001b[0m\u001b[0;34m\u001b[0m\u001b[0m\n",
            "\u001b[0;32m/usr/lib/python3.7/sre_parse.py\u001b[0m in \u001b[0;36mparse\u001b[0;34m(str, flags, pattern)\u001b[0m\n\u001b[1;32m    922\u001b[0m \u001b[0;34m\u001b[0m\u001b[0m\n\u001b[1;32m    923\u001b[0m     \u001b[0;32mtry\u001b[0m\u001b[0;34m:\u001b[0m\u001b[0;34m\u001b[0m\u001b[0;34m\u001b[0m\u001b[0m\n\u001b[0;32m--> 924\u001b[0;31m         \u001b[0mp\u001b[0m \u001b[0;34m=\u001b[0m \u001b[0m_parse_sub\u001b[0m\u001b[0;34m(\u001b[0m\u001b[0msource\u001b[0m\u001b[0;34m,\u001b[0m \u001b[0mpattern\u001b[0m\u001b[0;34m,\u001b[0m \u001b[0mflags\u001b[0m \u001b[0;34m&\u001b[0m \u001b[0mSRE_FLAG_VERBOSE\u001b[0m\u001b[0;34m,\u001b[0m \u001b[0;36m0\u001b[0m\u001b[0;34m)\u001b[0m\u001b[0;34m\u001b[0m\u001b[0;34m\u001b[0m\u001b[0m\n\u001b[0m\u001b[1;32m    925\u001b[0m     \u001b[0;32mexcept\u001b[0m \u001b[0mVerbose\u001b[0m\u001b[0;34m:\u001b[0m\u001b[0;34m\u001b[0m\u001b[0;34m\u001b[0m\u001b[0m\n\u001b[1;32m    926\u001b[0m         \u001b[0;31m# the VERBOSE flag was switched on inside the pattern.  to be\u001b[0m\u001b[0;34m\u001b[0m\u001b[0;34m\u001b[0m\u001b[0;34m\u001b[0m\u001b[0m\n",
            "\u001b[0;32m/usr/lib/python3.7/sre_parse.py\u001b[0m in \u001b[0;36m_parse_sub\u001b[0;34m(source, state, verbose, nested)\u001b[0m\n\u001b[1;32m    418\u001b[0m     \u001b[0;32mwhile\u001b[0m \u001b[0;32mTrue\u001b[0m\u001b[0;34m:\u001b[0m\u001b[0;34m\u001b[0m\u001b[0;34m\u001b[0m\u001b[0m\n\u001b[1;32m    419\u001b[0m         itemsappend(_parse(source, state, verbose, nested + 1,\n\u001b[0;32m--> 420\u001b[0;31m                            not nested and not items))\n\u001b[0m\u001b[1;32m    421\u001b[0m         \u001b[0;32mif\u001b[0m \u001b[0;32mnot\u001b[0m \u001b[0msourcematch\u001b[0m\u001b[0;34m(\u001b[0m\u001b[0;34m\"|\"\u001b[0m\u001b[0;34m)\u001b[0m\u001b[0;34m:\u001b[0m\u001b[0;34m\u001b[0m\u001b[0;34m\u001b[0m\u001b[0m\n\u001b[1;32m    422\u001b[0m             \u001b[0;32mbreak\u001b[0m\u001b[0;34m\u001b[0m\u001b[0;34m\u001b[0m\u001b[0m\n",
            "\u001b[0;32m/usr/lib/python3.7/sre_parse.py\u001b[0m in \u001b[0;36m_parse\u001b[0;34m(source, state, verbose, nested, first)\u001b[0m\n\u001b[1;32m    524\u001b[0m                 \u001b[0;32mif\u001b[0m \u001b[0mthis\u001b[0m \u001b[0;32mis\u001b[0m \u001b[0;32mNone\u001b[0m\u001b[0;34m:\u001b[0m\u001b[0;34m\u001b[0m\u001b[0;34m\u001b[0m\u001b[0m\n\u001b[1;32m    525\u001b[0m                     raise source.error(\"unterminated character set\",\n\u001b[0;32m--> 526\u001b[0;31m                                        source.tell() - here)\n\u001b[0m\u001b[1;32m    527\u001b[0m                 \u001b[0;32mif\u001b[0m \u001b[0mthis\u001b[0m \u001b[0;34m==\u001b[0m \u001b[0;34m\"]\"\u001b[0m \u001b[0;32mand\u001b[0m \u001b[0mset\u001b[0m\u001b[0;34m:\u001b[0m\u001b[0;34m\u001b[0m\u001b[0;34m\u001b[0m\u001b[0m\n\u001b[1;32m    528\u001b[0m                     \u001b[0;32mbreak\u001b[0m\u001b[0;34m\u001b[0m\u001b[0;34m\u001b[0m\u001b[0m\n",
            "\u001b[0;31merror\u001b[0m: unterminated character set at position 0"
          ]
        }
      ]
    },
    {
      "cell_type": "code",
      "metadata": {
        "id": "bBeqt4MFvOXf",
        "colab": {
          "base_uri": "https://localhost:8080/"
        },
        "outputId": "abea67f8-951a-46cc-f707-df60df75939b"
      },
      "source": [
        "def num(n):\n",
        "    if n%10==1 and n%100!=11: #10으로 나누어 나머지 1이거나 100으로 나누어 나머지가 11이면\n",
        "        return str(n)+\"st\" #입력값과 그 뒤에 st 추가\n",
        "    elif n%10==2 and n%100!=12: #10으로 나누어 나머지 2이거나 100으로 나누어 나머지가 12이면\n",
        "        return str(n)+\"nd\" #입력값과 그 뒤에 nd 추가\n",
        "    elif n%10==3 and n%100!=13: #10으로 나누어 나머지 3이거나 100으로 나누어 나머지가 13이면\n",
        "       return str(n)+\"rd\" #입력값과 그 뒤에 rd 추가\n",
        "    else: #나머지는\n",
        "        return str(n)+\"th\" #입력값과 그 뒤에 th 추가\n",
        "print (num(1))\n",
        "print (num(11))\n",
        "print (num(22))\n",
        "print (num(12))"
      ],
      "execution_count": null,
      "outputs": [
        {
          "output_type": "stream",
          "text": [
            "1st\n",
            "11th\n",
            "22nd\n",
            "12th\n"
          ],
          "name": "stdout"
        }
      ]
    },
    {
      "cell_type": "code",
      "metadata": {
        "id": "64fdWzzaZCm7",
        "colab": {
          "base_uri": "https://localhost:8080/"
        },
        "outputId": "1bdb9193-9294-4970-f0be-5428a04e5702"
      },
      "source": [
        "S = [1, 3, 4, 8, 13, 17, 20]\n",
        "shortest = S[1]-S[0]\n",
        "index = 0\n",
        "for g in range(1,len(S)):\n",
        "  if S[g]-S[g-1] < shortest:\n",
        "    shortest = S[g]-S[g-1]\n",
        "    index = g\n",
        "  print (S[index-1], S[index])"
      ],
      "execution_count": null,
      "outputs": [
        {
          "output_type": "stream",
          "text": [
            "20 1\n",
            "3 4\n",
            "3 4\n",
            "3 4\n",
            "3 4\n",
            "3 4\n"
          ],
          "name": "stdout"
        }
      ]
    },
    {
      "cell_type": "markdown",
      "metadata": {
        "id": "2lZWtKaQnKJ4"
      },
      "source": [
        ""
      ]
    },
    {
      "cell_type": "code",
      "metadata": {
        "id": "yEbMqUSH8roe",
        "colab": {
          "base_uri": "https://localhost:8080/"
        },
        "outputId": "4b38fbac-54f1-4168-962d-7a7790190cab"
      },
      "source": [
        "data = [1, 3, 4, 8, 13, 17, 20]\n",
        "\n",
        "def shortest(lst):\n",
        "    result_list = []\n",
        "    for i in range(len(data)-1):\n",
        "        result_list.append(lst[i+1] - lst[i])   # 거리를 차례로 계산해 리스트에 저장\n",
        "    index = result_list.index(min(result_list)) # 가장 짧은 길이의 인덱스\n",
        "    return (lst[index], lst[index+1])   # 인풋 데이터 리스트에서 대응하는 값을 리턴한다\n",
        "\n",
        "print(shortest(data))"
      ],
      "execution_count": null,
      "outputs": [
        {
          "output_type": "stream",
          "text": [
            "(3, 4)\n"
          ],
          "name": "stdout"
        }
      ]
    },
    {
      "cell_type": "code",
      "metadata": {
        "id": "czCKwYOf8r_j",
        "colab": {
          "base_uri": "https://localhost:8080/"
        },
        "outputId": "b6d3dcf9-e72b-4ff6-cbe8-d8669552a80b"
      },
      "source": [
        "def Lsearch(x, y):\n",
        "  for i in range(len(x)):\n",
        "    if x[i] == y:\n",
        "      return \"%d번째의 요소가 일치\" %i\n",
        "    return \"찾지 못했습니다.\"\n",
        "\n",
        "x = [4,2,3,5,1]\n",
        "y = 5\n",
        "z = Lsearch(x,y)\n",
        "print(z)"
      ],
      "execution_count": null,
      "outputs": [
        {
          "output_type": "stream",
          "text": [
            "찾지 못했습니다.\n"
          ],
          "name": "stdout"
        }
      ]
    },
    {
      "cell_type": "code",
      "metadata": {
        "id": "Ii2o8pkNWcC_",
        "colab": {
          "base_uri": "https://localhost:8080/"
        },
        "outputId": "38e26a4e-0738-460c-de5c-920dce4fd850"
      },
      "source": [
        "def cnvt(s): \n",
        "  x = list(s) # 변수를 list화\n",
        "  for k in range(1, len(x), 2): # k에서 x의 길이까지 2칸 간격으로\n",
        "    if x[k].isdigit(): #숫자이면\n",
        "      x[k] = '*' # * 출력\n",
        "  return ''.join(x)\n",
        "      \n",
        "print(cnvt(\"57uyft43yut89574389\"))"
      ],
      "execution_count": null,
      "outputs": [
        {
          "output_type": "stream",
          "text": [
            "5*uyft4*yut*9*7*3*9\n"
          ],
          "name": "stdout"
        }
      ]
    },
    {
      "cell_type": "code",
      "metadata": {
        "id": "FWr69Og88Lyp",
        "colab": {
          "base_uri": "https://localhost:8080/"
        },
        "outputId": "71f2a5c0-e71a-4cf2-92d0-9960f9652669"
      },
      "source": [
        "\n",
        "def ASearch(arr, search):\n",
        "  head = 0\n",
        "  tail = len(arr) - 1\n",
        "\n",
        "  while head <= tail:\n",
        "    center = round((head + tail) / 2)\n",
        "    if search == arr[center]:\n",
        "      print(center, \"번쨰 데이터와 일치합니다.\")\n",
        "      break\n",
        "    elif search > arr[center]:\n",
        "      head = center + 1\n",
        "    elif search < arr[center]:\n",
        "      tail = center - 1\n",
        "  if head > tail:\n",
        "    print(\"찾지 못했습니다.\")\n",
        "\n",
        "search = int(input(\"검색할 데이터를 입력하세요 : \"))\n",
        "arr = [11,13,17,19,23,29,31]\n",
        "ASearch(arr, search)"
      ],
      "execution_count": null,
      "outputs": [
        {
          "output_type": "stream",
          "text": [
            "검색할 데이터를 입력하세요 : 1\n",
            "찾지 못했습니다.\n"
          ],
          "name": "stdout"
        }
      ]
    },
    {
      "cell_type": "code",
      "metadata": {
        "id": "35phEHVniYV5",
        "colab": {
          "base_uri": "https://localhost:8080/"
        },
        "outputId": "450b4787-d6ec-4bec-c36a-61ddd775416c"
      },
      "source": [
        "x = \"aaaabbbcczzzza\"\n",
        "\n",
        "result = x[0] #결과 받을 변수 선언\n",
        "count = 0 #숫자 개수 카운트\n",
        "for i in x:\n",
        "  if i == result[-1]:#마지막 문자와 비교해서 같으면\n",
        "      count += 1 #카운트 +1\n",
        "  else:\n",
        "    result += str(count) + i #마지막 글자랑 비교 후 다를때 result 에 추가 하고 i를 마지막에 추가\n",
        "    count = 1\n",
        "result += str(count) #문자열형태로 추가\n",
        "print(result)"
      ],
      "execution_count": null,
      "outputs": [
        {
          "output_type": "stream",
          "text": [
            "a4b3c2z4a1\n"
          ],
          "name": "stdout"
        }
      ]
    },
    {
      "cell_type": "code",
      "metadata": {
        "id": "Y_q3-SWS_O42",
        "colab": {
          "base_uri": "https://localhost:8080/"
        },
        "outputId": "9f14e343-527d-470b-8e84-e4057e196066"
      },
      "source": [
        "def ordinal(n):\n",
        "    if n % 10 == abs(1) and n % 100 != 11: #10으로 나누어 나머지 1이거나 100으로 나누어 나머지가 11이면\n",
        "        return str(n) + \"st\" #입력값과 그 뒤에 st 추가\n",
        "    elif n % 10 == 2 and n % 100 != 12: #10으로 나누어 나머지 2이거나 100으로 나누어 나머지가 12이면\n",
        "        return str(n) + \"nd\" #입력값과 그 뒤에 nd 추가\n",
        "    elif n % 10 == 3 and n % 100 != 13: #10으로 나누어 나머지 3이거나 100으로 나누어 나머지가 13이면\n",
        "       return str(n) + \"rd\" #입력값과 그 뒤에 rd 추가\n",
        "    elif n == -1: # -1이면\n",
        "      return str(n) + \"st\" #입력값과 그 뒤에 st 추가\n",
        "    elif n == -2: # -2이면\n",
        "      return str(n) + \"nd\" #입력값과 그 뒤에 nd 추가\n",
        "    elif n == -3: # -3이면\n",
        "      return str(n) + \"rd\" #입력값과 그 뒤에 rd 추가\n",
        "    else: #나머지는\n",
        "        return str(n) + \"th\" #입력값과 그 뒤에 th 추가\n",
        "print (ordinal(3))\n",
        "print (ordinal(111))\n",
        "print (ordinal(-1))"
      ],
      "execution_count": null,
      "outputs": [
        {
          "output_type": "stream",
          "text": [
            "3rd\n",
            "111th\n",
            "-1st\n"
          ],
          "name": "stdout"
        }
      ]
    },
    {
      "cell_type": "code",
      "metadata": {
        "colab": {
          "base_uri": "https://localhost:8080/"
        },
        "id": "5rMGX0SyGTCU",
        "outputId": "fb5437ef-03c1-4cf0-c44e-9db20cac761f"
      },
      "source": [
        "def Ordinal():\n",
        "    n=input()\n",
        "    if (len(n)>1 and n[-2]=='1')or(int(n[-1])>3): #입력받은 값의 길이가 1보다 크거나 \n",
        "        return n+'th'\n",
        "    else:\n",
        "        if n[-1]=='1':\n",
        "            return n+'st'\n",
        "        elif n[-1]=='2':\n",
        "            return n+'nd'\n",
        "        elif n[-1]=='3':\n",
        "            return n+'rd'\n",
        "print(Ordinal())\n",
        "print(Ordinal())\n",
        "print(Ordinal())\n"
      ],
      "execution_count": null,
      "outputs": [
        {
          "output_type": "stream",
          "text": [
            "3\n",
            "3rd\n",
            "111\n",
            "111th\n",
            "-1\n",
            "-1st\n"
          ],
          "name": "stdout"
        }
      ]
    },
    {
      "cell_type": "code",
      "metadata": {
        "colab": {
          "base_uri": "https://localhost:8080/"
        },
        "id": "FiEzN87bKB_x",
        "outputId": "97f37bc4-5562-4c25-ce03-eecac20c9e3d"
      },
      "source": [
        "num=int(input('숫자를 입력하시오:\\n'))\n",
        "\n",
        "if  (num<100 and num%10==1) or (num>=100 and num%100==1):\n",
        "    print(num,'st')\n",
        "elif (num<100 and num%10==2) or (num>=100 and num%100==2):\n",
        "    print(num,'nd')\n",
        "elif (num<100 and num%10==3) or (num>=100 and num%100==3):\n",
        "    print(num,'rd')\n",
        "else:\n",
        "    print(num,'th')\n"
      ],
      "execution_count": null,
      "outputs": [
        {
          "output_type": "stream",
          "text": [
            "숫자를 입력하시오:\n",
            "-1\n",
            "-1 th\n"
          ],
          "name": "stdout"
        }
      ]
    },
    {
      "cell_type": "code",
      "metadata": {
        "id": "ytZwCMFJLau_",
        "colab": {
          "base_uri": "https://localhost:8080/",
          "height": 136
        },
        "outputId": "d2068562-7e70-4fdf-8427-a7414b7508b5"
      },
      "source": [
        "def SSort(arr):\n",
        "  for i range(len(arr)):\n",
        "    indexMin = i\n",
        "    for j in range(i+1, len(arr)):\n",
        "      if arr[j] < arr[indexMin]:\n",
        "        indexMin = j\n",
        "    arr[i], arr[indexMin] = arr[indexMin], arr[i]\n",
        "  return arr\n",
        "\n",
        "\n",
        "array = [12,13,11,14,10]\n",
        "print(SSort(array))"
      ],
      "execution_count": null,
      "outputs": [
        {
          "output_type": "error",
          "ename": "SyntaxError",
          "evalue": "ignored",
          "traceback": [
            "\u001b[0;36m  File \u001b[0;32m\"<ipython-input-2-56baefe57ecd>\"\u001b[0;36m, line \u001b[0;32m2\u001b[0m\n\u001b[0;31m    for i range(len(arr)):\u001b[0m\n\u001b[0m              ^\u001b[0m\n\u001b[0;31mSyntaxError\u001b[0m\u001b[0;31m:\u001b[0m invalid syntax\n"
          ]
        }
      ]
    },
    {
      "cell_type": "code",
      "metadata": {
        "colab": {
          "base_uri": "https://localhost:8080/",
          "height": 136
        },
        "id": "K43qtkmAC9KN",
        "outputId": "a02eb981-3b73-4288-a1f9-1b6ffc3fdfaa"
      },
      "source": [
        "def SSort(arr):\n",
        "  for i range(len(arr)):\n",
        "    indexMin = i\n",
        "    for j in range(i+1, len(arr)):\n",
        "      if arr[j] < arr[indexMin]:\n",
        "        indexMin = j\n",
        "    arr[i], arr[indexMin] = arr[indexMin], arr[i]\n",
        "  return arr\n",
        "\n",
        "\n",
        "array = {12,13,11,14,10}\n",
        "print(SSort(array))"
      ],
      "execution_count": null,
      "outputs": [
        {
          "output_type": "error",
          "ename": "SyntaxError",
          "evalue": "ignored",
          "traceback": [
            "\u001b[0;36m  File \u001b[0;32m\"<ipython-input-3-94ce30a975ca>\"\u001b[0;36m, line \u001b[0;32m2\u001b[0m\n\u001b[0;31m    for i range(len(arr)):\u001b[0m\n\u001b[0m              ^\u001b[0m\n\u001b[0;31mSyntaxError\u001b[0m\u001b[0;31m:\u001b[0m invalid syntax\n"
          ]
        }
      ]
    },
    {
      "cell_type": "code",
      "metadata": {
        "colab": {
          "base_uri": "https://localhost:8080/",
          "height": 136
        },
        "id": "Suw8fH4YCi4v",
        "outputId": "f343acb8-e673-4a22-bed6-014e5e432c19"
      },
      "source": [
        "\n",
        "\n",
        "def algo(arr):\n",
        "  for i in range(len(arr)):\n",
        "    for k in range(i, len(arr)):\n",
        "      if arr[i-1] > arr[i]:\n",
        "        \n",
        "\n",
        "array = [5,3,4,1,2]\n"
      ],
      "execution_count": null,
      "outputs": [
        {
          "output_type": "error",
          "ename": "SyntaxError",
          "evalue": "ignored",
          "traceback": [
            "\u001b[0;36m  File \u001b[0;32m\"<ipython-input-5-27d97353e79f>\"\u001b[0;36m, line \u001b[0;32m4\u001b[0m\n\u001b[0;31m    for i range(len(array)):\u001b[0m\n\u001b[0m              ^\u001b[0m\n\u001b[0;31mSyntaxError\u001b[0m\u001b[0;31m:\u001b[0m invalid syntax\n"
          ]
        }
      ]
    },
    {
      "cell_type": "code",
      "metadata": {
        "id": "N3IroahIKAB_",
        "colab": {
          "base_uri": "https://localhost:8080/"
        },
        "outputId": "961f2d2e-c7b2-4d26-e34e-1c6cfaa3a4b7"
      },
      "source": [
        "def sss(x, n):\n",
        "  while x >= n: #n이 x보다 커질때까지 \n",
        "    x = x - n # x에 n을 빼라\n",
        "  return x == 0 \n",
        "print(sss(130, 10))\n"
      ],
      "execution_count": null,
      "outputs": [
        {
          "output_type": "stream",
          "text": [
            "True\n"
          ],
          "name": "stdout"
        }
      ]
    },
    {
      "cell_type": "code",
      "metadata": {
        "id": "cifY4tcEkD0S",
        "colab": {
          "base_uri": "https://localhost:8080/"
        },
        "outputId": "b7a567b0-031f-4815-a44d-5fd5f3733c54"
      },
      "source": [
        "def bsort(nums):\n",
        "  for i in range(len(nums)-1):\n",
        "    for j in range(len(nums)-1-i):\n",
        "      if nums[j] > nums[j+1]:\n",
        "        nums[j], nums[j+1] = nums[j+1], nums[j]\n",
        "  return nums\n",
        "\n",
        "arr = bsort([5,3,4,1,2])\n",
        "print(arr)"
      ],
      "execution_count": null,
      "outputs": [
        {
          "output_type": "stream",
          "text": [
            "[1, 2, 3, 4, 5]\n"
          ],
          "name": "stdout"
        }
      ]
    },
    {
      "cell_type": "code",
      "metadata": {
        "colab": {
          "base_uri": "https://localhost:8080/"
        },
        "id": "iP9hzZiZTwCu",
        "outputId": "d2f5839e-2212-43ba-849b-2b42451d10e0"
      },
      "source": [
        "def quick_sort(a):\n",
        "  n = len(a)\n",
        "  if n <= 1:\n",
        "    return a\n",
        "  pivot = a[-1]\n",
        "  g_left = []\n",
        "  g_right = []\n",
        "  for i in range(0,n-1):\n",
        "    if a[i]<=pivot:\n",
        "      g_left.append(a[i])\n",
        "    else:\n",
        "      g_right.append(a[i])\n",
        "    return quick_sort(g_left) + [pivot] + quick_sort(g_right)\n",
        "d = [8,12,1,9,102,25,32,98,31]\n",
        "print(quick_sort(d))"
      ],
      "execution_count": null,
      "outputs": [
        {
          "output_type": "stream",
          "text": [
            "[8, 31]\n"
          ],
          "name": "stdout"
        }
      ]
    },
    {
      "cell_type": "code",
      "metadata": {
        "id": "UfvI2tJ0VroR",
        "colab": {
          "base_uri": "https://localhost:8080/"
        },
        "outputId": "1f056ac7-93af-45e0-bc8c-ab5a2cc4a348"
      },
      "source": [
        "def light(data): #잘 모르겠어서 인터넷 참고 했습니다..\n",
        "    for i in data:\n",
        "        if i!=0:\n",
        "            print(\"yes\" if sum(1 for j in range(1,i+1) if i%j==0)%2==1 else \"no\")\n",
        "        else:\n",
        "            return\n",
        "light([3, 6241, 8191, 0])"
      ],
      "execution_count": null,
      "outputs": [
        {
          "output_type": "stream",
          "text": [
            "no\n",
            "yes\n",
            "no\n"
          ],
          "name": "stdout"
        }
      ]
    },
    {
      "cell_type": "code",
      "metadata": {
        "colab": {
          "base_uri": "https://localhost:8080/"
        },
        "id": "ZouBJsZB95eO",
        "outputId": "07bf1db3-fe6e-41ef-90ba-4f37e9a6c037"
      },
      "source": [
        "while True:\n",
        "  a=input()\n",
        "  if a=='0':\n",
        "    break\n",
        "  f=[]\n",
        "  for i in range(1,int(a)+1):\n",
        "    if int(a)%i==0:\n",
        "      f.append(i)\n",
        "  d=len(f)\n",
        "  if d%2==0:\n",
        "    print('no')\n",
        "  else:\n",
        "    print('yes')"
      ],
      "execution_count": null,
      "outputs": [
        {
          "output_type": "stream",
          "text": [
            "3\n",
            "no\n",
            "6241\n",
            "yes\n",
            "8191\n",
            "no\n",
            "0\n"
          ],
          "name": "stdout"
        }
      ]
    },
    {
      "cell_type": "code",
      "metadata": {
        "id": "L-vi_Tn0AVXJ",
        "colab": {
          "base_uri": "https://localhost:8080/"
        },
        "outputId": "88f24158-99f3-4615-8aaa-d53fd98bc4d6"
      },
      "source": [
        "def solution(n):\n",
        "  answer = 0\n",
        "  number = []\n",
        "\n",
        "  for i in range(n+1):\n",
        "    number.append(i)\n",
        "\n",
        "  for i in range(2,n+1,1):\n",
        "    if i == -1:\n",
        "      continue\n",
        "    j=0\n",
        "    for j in range(i+i, n+1, i):\n",
        "      number[j] = -1\n",
        "    for i in range(2,n+1):\n",
        "      if number[i] != -1:\n",
        "        answer += 1\n",
        "    return answer\n",
        "print(solution(5))"
      ],
      "execution_count": 2,
      "outputs": [
        {
          "output_type": "stream",
          "text": [
            "3\n"
          ],
          "name": "stdout"
        }
      ]
    },
    {
      "cell_type": "code",
      "metadata": {
        "id": "cl7t_KHTQ27o"
      },
      "source": [
        "def solution(n):\n",
        "  answer = 0\n",
        "  number = []\n",
        "\n",
        "  for i in range(n+1):\n",
        "    number.append(i)\n",
        "\n",
        "  for i in range(2,n+1,1):\n",
        "    if i == -1:\n",
        "      continue\n",
        "\n",
        "    j=0\n",
        "    for j in range(i+i, n+1, i):\n",
        "      number[j] = -1\n",
        "\n",
        "    for i in range(2,n+1):\n",
        "      #if number[i] != -1:\n",
        "      #  answer += 1\n",
        "\n",
        "    return answer\n",
        "print(solution(5))"
      ],
      "execution_count": null,
      "outputs": []
    },
    {
      "cell_type": "code",
      "metadata": {
        "colab": {
          "base_uri": "https://localhost:8080/"
        },
        "id": "oT1pOoPrce_D",
        "outputId": "6d519f12-9221-4414-e41e-a6819ee1d5c8"
      },
      "source": [
        "# n이하의 수중 소수 모두 출력   방 값이 -1은 소수가 아니다. \n",
        "\n",
        "def solution(n):\n",
        "  answer = [] # 소수 담을 리스트 \n",
        "  number = [] # n이하의 수중 소수 파악, 소수가 아니면 -1\n",
        "  # ...1 기본 방 설정\n",
        "  for i in range(n+1):\n",
        "    number.append(i)  # n까지의 모든 수를 number 리스트에 담기 [1,2,3,4,5,...n]\n",
        "\n",
        "  # ...2 소수 찾기 아닌방은 -1 넣기 \n",
        "  for i in range(2, n+1, 1):  # i = 2\n",
        "    if i == -1 :\n",
        "      continue\n",
        "    j = 0          #  i = 2  \n",
        "    for j in range(i + i, n + 1, i):\n",
        "      number[j] = -1 # 소수가 아닌 방에는 -1을 담기 -1은 소수가 아님을 표시\n",
        "\n",
        "  # ...3  -1 이 아닌 방의 갯수 세기\n",
        "  for i in range(2, n+1):\n",
        "    if number[i] != -1:  # 값이 -1 이 아닌 방 번호가  소수\n",
        "      answer.append(number[i])\n",
        "  return answer\n",
        "\n",
        "\n",
        "print(solution(5))\n"
      ],
      "execution_count": 3,
      "outputs": [
        {
          "output_type": "stream",
          "text": [
            "[2, 3, 5]\n"
          ],
          "name": "stdout"
        }
      ]
    },
    {
      "cell_type": "code",
      "metadata": {
        "id": "hoGsuPBjciVn"
      },
      "source": [
        ""
      ],
      "execution_count": null,
      "outputs": []
    }
  ]
}