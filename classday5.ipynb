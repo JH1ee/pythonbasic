{
  "nbformat": 4,
  "nbformat_minor": 0,
  "metadata": {
    "colab": {
      "name": "classday5.ipynb",
      "provenance": [],
      "collapsed_sections": [],
      "authorship_tag": "ABX9TyNXPOXolEWUgqAd73HXVNzY",
      "include_colab_link": true
    },
    "kernelspec": {
      "name": "python3",
      "display_name": "Python 3"
    }
  },
  "cells": [
    {
      "cell_type": "markdown",
      "metadata": {
        "id": "view-in-github",
        "colab_type": "text"
      },
      "source": [
        "<a href=\"https://colab.research.google.com/github/JH1ee/pythonbasic/blob/main/classday5.ipynb\" target=\"_parent\"><img src=\"https://colab.research.google.com/assets/colab-badge.svg\" alt=\"Open In Colab\"/></a>"
      ]
    },
    {
      "cell_type": "code",
      "metadata": {
        "id": "1w-Yj5jNrAJh"
      },
      "source": [
        "nums = [100, 200, 300, 400, 500]\r\n",
        "nums.remove(400)\r\n",
        "nums.remove(500)"
      ],
      "execution_count": 14,
      "outputs": []
    },
    {
      "cell_type": "markdown",
      "metadata": {
        "id": "0P629tWTK1uH"
      },
      "source": [
        ""
      ]
    },
    {
      "cell_type": "code",
      "metadata": {
        "colab": {
          "base_uri": "https://localhost:8080/"
        },
        "id": "7694IRe0J1BF",
        "outputId": "0e411d03-34df-4264-8759-3f811fbb4cf4"
      },
      "source": [
        "nums"
      ],
      "execution_count": 18,
      "outputs": [
        {
          "output_type": "execute_result",
          "data": {
            "text/plain": [
              "[100, 200, 300]"
            ]
          },
          "metadata": {
            "tags": []
          },
          "execution_count": 18
        }
      ]
    },
    {
      "cell_type": "code",
      "metadata": {
        "colab": {
          "base_uri": "https://localhost:8080/"
        },
        "id": "xXLKNbETKJJ1",
        "outputId": "1d334e3a-0a44-4dda-fd2a-e06bd67ec237"
      },
      "source": [
        "nums = [100, 200, 300, 400, 500]\r\n",
        "nums.pop(3)\r\n",
        "nums.pop(3)\r\n",
        "nums"
      ],
      "execution_count": 17,
      "outputs": [
        {
          "output_type": "execute_result",
          "data": {
            "text/plain": [
              "[100, 200, 300]"
            ]
          },
          "metadata": {
            "tags": []
          },
          "execution_count": 17
        }
      ]
    },
    {
      "cell_type": "code",
      "metadata": {
        "colab": {
          "base_uri": "https://localhost:8080/"
        },
        "id": "RgfewC_kKSP4",
        "outputId": "6866235e-d175-4125-8c2a-ee41f10ff0a5"
      },
      "source": [
        "nums = [100, 200, 300, 400, 500]\r\n",
        "nums = nums[:3]\r\n",
        "nums"
      ],
      "execution_count": 21,
      "outputs": [
        {
          "output_type": "execute_result",
          "data": {
            "text/plain": [
              "[100, 200, 300]"
            ]
          },
          "metadata": {
            "tags": []
          },
          "execution_count": 21
        }
      ]
    },
    {
      "cell_type": "code",
      "metadata": {
        "colab": {
          "base_uri": "https://localhost:8080/"
        },
        "id": "NjSBp0loM034",
        "outputId": "b6533163-dc4b-4fca-de18-10a71ec38836"
      },
      "source": [
        "i = [200,100,300]\r\n",
        "i.insert(2,10000)\r\n",
        "print(i)"
      ],
      "execution_count": 23,
      "outputs": [
        {
          "output_type": "stream",
          "text": [
            "[200, 100, 10000, 300]\n"
          ],
          "name": "stdout"
        }
      ]
    },
    {
      "cell_type": "code",
      "metadata": {
        "id": "0aP9NrGjMmDo"
      },
      "source": [
        "i = [100, 200, 300]\r\n",
        "print"
      ],
      "execution_count": null,
      "outputs": []
    },
    {
      "cell_type": "code",
      "metadata": {
        "colab": {
          "base_uri": "https://localhost:8080/"
        },
        "id": "xApquCaFOsRt",
        "outputId": "21ad4ec7-5d71-40b9-a1e2-ef99f3bccb04"
      },
      "source": [
        "a = 10\r\n",
        "b = 2\r\n",
        "for i in range(1,5,2):\r\n",
        "  a+=i\r\n",
        "print(a+b)"
      ],
      "execution_count": 27,
      "outputs": [
        {
          "output_type": "stream",
          "text": [
            "16\n"
          ],
          "name": "stdout"
        }
      ]
    },
    {
      "cell_type": "markdown",
      "metadata": {
        "id": "Ev0B9kjsOwpJ"
      },
      "source": [
        ""
      ]
    },
    {
      "cell_type": "code",
      "metadata": {
        "colab": {
          "base_uri": "https://localhost:8080/"
        },
        "id": "Ki9wxMbMSOH8",
        "outputId": "9f64b76e-d52d-4b16-8cb8-3300ad946e7d"
      },
      "source": [
        "d={'weight':78,'weight':84}\r\n",
        "print(d['weight'])"
      ],
      "execution_count": 28,
      "outputs": [
        {
          "output_type": "stream",
          "text": [
            "84\n"
          ],
          "name": "stdout"
        }
      ]
    },
    {
      "cell_type": "code",
      "metadata": {
        "colab": {
          "base_uri": "https://localhost:8080/"
        },
        "id": "7bwlrJlhTFfc",
        "outputId": "23fad959-b72b-45ce-a3c3-0796c5b4550e"
      },
      "source": [
        "year = '2019'\r\n",
        "month = '04'\r\n",
        "day = '26'\r\n",
        "hour = '11'\r\n",
        "minute = '34'\r\n",
        "second = '27'\r\n",
        "\r\n",
        "print(year, month, day, sep=\"/\", end=' ')  #sep은 , 사이에 넣고 싶은 문자 넣어줌 end 문장 끝을 어떻게 할지\r\n",
        "print(hour, minute, second, sep=\":\")\r\n"
      ],
      "execution_count": 32,
      "outputs": [
        {
          "output_type": "stream",
          "text": [
            "2019/04/26 11:34:27\n"
          ],
          "name": "stdout"
        }
      ]
    },
    {
      "cell_type": "code",
      "metadata": {
        "colab": {
          "base_uri": "https://localhost:8080/"
        },
        "id": "V9TFdzgGZ1fa",
        "outputId": "6be6f5ae-0d4a-4f00-90ca-6385f8e41e9b"
      },
      "source": [
        "print('    *    ')\r\n",
        "print('   ***   ')\r\n",
        "print('  *****  ')\r\n",
        "print(' ******* ')\r\n",
        "print('*********')"
      ],
      "execution_count": 35,
      "outputs": [
        {
          "output_type": "stream",
          "text": [
            "    *    \n",
            "   ***   \n",
            "  *****  \n",
            " ******* \n",
            "*********\n"
          ],
          "name": "stdout"
        }
      ]
    },
    {
      "cell_type": "code",
      "metadata": {
        "colab": {
          "base_uri": "https://localhost:8080/"
        },
        "id": "7ESmnMiGaF3I",
        "outputId": "28528bb7-7b05-4bac-ed66-17e2edcc6834"
      },
      "source": [
        "#홀수 만드는 공식 2 * x - 1 \r\n",
        "\r\n",
        "n = int(input(\"몇 줄짜리 트리를  만들까요? \"))\r\n",
        "for i in range(1,tree+1):\r\n",
        "  print(\" \" * (n-i) + \"*\" * (2 * i - 1))\r\n"
      ],
      "execution_count": 53,
      "outputs": [
        {
          "output_type": "stream",
          "text": [
            "몇 줄짜리 트리를  만들까요? 5\n",
            "    *\n",
            "   ***\n",
            "  *****\n",
            " *******\n",
            "*********\n"
          ],
          "name": "stdout"
        }
      ]
    },
    {
      "cell_type": "code",
      "metadata": {
        "colab": {
          "base_uri": "https://localhost:8080/"
        },
        "id": "qBBt8uxKaxWf",
        "outputId": "c4e9ca08-333f-4bb5-a9c7-c8e8351cb284"
      },
      "source": [
        "#문제 11\r\n",
        "s = 0\r\n",
        "for i in range(1, 101): \r\n",
        "  s = s + i \r\n",
        "print(s)\r\n"
      ],
      "execution_count": 62,
      "outputs": [
        {
          "output_type": "stream",
          "text": [
            "5050\n"
          ],
          "name": "stdout"
        }
      ]
    },
    {
      "cell_type": "code",
      "metadata": {
        "colab": {
          "base_uri": "https://localhost:8080/"
        },
        "id": "b6Q0tf1A3Jqs",
        "outputId": "fda16e74-bf1d-44bd-d330-202e11877e82"
      },
      "source": [
        "#문제 12\r\n",
        "class Wizard:\r\n",
        "  def __init__(self, health, mana, armor):\r\n",
        "    self.health = health\r\n",
        "    self.mana = mana\r\n",
        "    self.armor = armor\r\n",
        "\r\n",
        "  def attack(self):\r\n",
        "    print(\"파이어볼\")\r\n",
        "\r\n",
        "\r\n",
        "x = Wizard(health = 545,  mana = 210, armor = 10)\r\n",
        "print(x.health, x.mana, x.armor)\r\n",
        "x.attack()"
      ],
      "execution_count": 70,
      "outputs": [
        {
          "output_type": "stream",
          "text": [
            "545 210 10\n",
            "파이어볼\n"
          ],
          "name": "stdout"
        }
      ]
    },
    {
      "cell_type": "code",
      "metadata": {
        "colab": {
          "base_uri": "https://localhost:8080/"
        },
        "id": "VDT8OqKo5BPv",
        "outputId": "f06f46aa-a1f9-4fcf-daa8-80728d5d5e51"
      },
      "source": [
        "#문제 13\r\n",
        "planet = ['수성', '금성', '지구', '화성', '목성', '토성', '천왕성','해왕성']\r\n",
        "n = int(input(\"몇번째 행성이 알고 싶으신가요? : \")) - 1\r\n",
        "print(planet[n])\r\n"
      ],
      "execution_count": 79,
      "outputs": [
        {
          "output_type": "stream",
          "text": [
            "몇번째 행성이 알고 싶으신가요? : 5\n",
            "목성\n"
          ],
          "name": "stdout"
        }
      ]
    },
    {
      "cell_type": "code",
      "metadata": {
        "colab": {
          "base_uri": "https://localhost:8080/"
        },
        "id": "fZxPYAui-K5K",
        "outputId": "04864767-82de-4f68-ec10-c9870a0b269a"
      },
      "source": [
        "#문제 14\r\n",
        "n = int(input(\"숫자를 입력해주세요 : \"))\r\n",
        "if n % 3 == 0 :\r\n",
        "  print(\"짝\")\r\n",
        "else:\r\n",
        "  print(\"n\")"
      ],
      "execution_count": 80,
      "outputs": [
        {
          "output_type": "stream",
          "text": [
            "숫자를 입력해주세요 : 3\n",
            "짝\n"
          ],
          "name": "stdout"
        }
      ]
    },
    {
      "cell_type": "code",
      "metadata": {
        "colab": {
          "base_uri": "https://localhost:8080/"
        },
        "id": "-uPXdaWrBrhD",
        "outputId": "ff978382-80d7-4388-9031-90b8e4bcd659"
      },
      "source": [
        "#문제 15\r\n",
        "name = str(input(\"당신의 이름은 무엇 입니까? : \"))\r\n",
        "print(\"안녕하세요. 저는 %s 입니다.\" % name)\r\n"
      ],
      "execution_count": 83,
      "outputs": [
        {
          "output_type": "stream",
          "text": [
            "당신의 이름은 무엇 입니까? : 이진형\n",
            "안녕하세요. 저는 이진형 입니다.\n"
          ],
          "name": "stdout"
        }
      ]
    },
    {
      "cell_type": "code",
      "metadata": {
        "colab": {
          "base_uri": "https://localhost:8080/"
        },
        "id": "rMWkDmAQC8iF",
        "outputId": "6a222d18-2884-4859-fdd6-53db7e6108d8"
      },
      "source": [
        "#문제16\r\n",
        "a = list(input(\"글자를 입력해주세요 :\"))\r\n",
        "a.reverse()\r\n",
        "print(a)"
      ],
      "execution_count": 92,
      "outputs": [
        {
          "output_type": "stream",
          "text": [
            "글자를 입력해주세요 :거꾸로\n",
            "['로', '꾸', '거']\n"
          ],
          "name": "stdout"
        }
      ]
    },
    {
      "cell_type": "code",
      "metadata": {
        "colab": {
          "base_uri": "https://localhost:8080/"
        },
        "id": "NjVUIrJkG2Ll",
        "outputId": "693a5aff-dc66-4381-ef88-895c6d1b970a"
      },
      "source": [
        "#문제16 - 짧은버전\r\n",
        "s = input('')\r\n",
        "print(s[::-1]) #그대로 뒤집어서 출력시킴\r\n"
      ],
      "execution_count": 96,
      "outputs": [
        {
          "output_type": "stream",
          "text": [
            "거꾸로\n",
            "로꾸거\n"
          ],
          "name": "stdout"
        }
      ]
    },
    {
      "cell_type": "code",
      "metadata": {
        "id": "xwLv7M7nHSI_"
      },
      "source": [
        ""
      ],
      "execution_count": 174,
      "outputs": []
    },
    {
      "cell_type": "code",
      "metadata": {
        "colab": {
          "base_uri": "https://localhost:8080/"
        },
        "id": "jIsG0rDADwVI",
        "outputId": "7553dbbf-2f70-4839-eab7-6d23fb35596a"
      },
      "source": [
        "#문제17\r\n",
        "height = int(input(\"키를 입력해주세요 : \"))\r\n",
        "if height < 150:\r\n",
        "  print(\"no\")\r\n",
        "else:\r\n",
        "  print(\"yes\")"
      ],
      "execution_count": 100,
      "outputs": [
        {
          "output_type": "stream",
          "text": [
            "키를 입력해주세요 : 174\n",
            "yes\n"
          ],
          "name": "stdout"
        }
      ]
    },
    {
      "cell_type": "code",
      "metadata": {
        "colab": {
          "base_uri": "https://localhost:8080/"
        },
        "id": "LZjpMlWaFhU-",
        "outputId": "a86fade7-07f6-44a6-f8a4-be1b93ac15d5"
      },
      "source": [
        "#문제 18\r\n",
        "score = list(input('').split(' '))\r\n",
        "i = len(score)\r\n",
        "a = 0\r\n",
        "sum = 0\r\n",
        "avg = 0\r\n",
        "for a in range(0,i):\r\n",
        "  sum += int(score[a])\r\n",
        "avg = sum/i\r\n",
        "print(int(avg))"
      ],
      "execution_count": 123,
      "outputs": [
        {
          "output_type": "stream",
          "text": [
            "20 30 40 50 60\n",
            "40\n"
          ],
          "name": "stdout"
        }
      ]
    },
    {
      "cell_type": "code",
      "metadata": {
        "id": "eXem-3PnQN8c"
      },
      "source": [
        "nums = list(map(int,input().split()))\r\n",
        "print(int(sum(nums)/len(nums)))"
      ],
      "execution_count": null,
      "outputs": []
    },
    {
      "cell_type": "code",
      "metadata": {
        "colab": {
          "base_uri": "https://localhost:8080/"
        },
        "id": "_Jk3_molJOAw",
        "outputId": "78b1c7a2-0e8d-47e6-ba50-9782926aafd3"
      },
      "source": [
        "#문제 19\r\n",
        "a,b = map(int,input().split())\r\n",
        "print(a**b)"
      ],
      "execution_count": 128,
      "outputs": [
        {
          "output_type": "stream",
          "text": [
            "2 4\n",
            "16\n"
          ],
          "name": "stdout"
        }
      ]
    },
    {
      "cell_type": "code",
      "metadata": {
        "colab": {
          "base_uri": "https://localhost:8080/"
        },
        "id": "0beLPsoSPOOs",
        "outputId": "445e58a9-1e2b-4843-9fa2-8a63aea46d6c"
      },
      "source": [
        "n = list(map(int, input().split()))\r\n",
        "print(n[0] ** n[1])"
      ],
      "execution_count": 134,
      "outputs": [
        {
          "output_type": "stream",
          "text": [
            "2 4\n",
            "16\n"
          ],
          "name": "stdout"
        }
      ]
    },
    {
      "cell_type": "code",
      "metadata": {
        "colab": {
          "base_uri": "https://localhost:8080/"
        },
        "id": "uAaf7kPxPiGb",
        "outputId": "220c1a53-dc9c-42f8-963c-5a123b0471a3"
      },
      "source": [
        "#문제 20\r\n",
        "n = list(map(int, input().split()))\r\n",
        "print(n[0]//n[1], n[0]%n[1])"
      ],
      "execution_count": 146,
      "outputs": [
        {
          "output_type": "stream",
          "text": [
            "5 2\n",
            "2 1\n"
          ],
          "name": "stdout"
        }
      ]
    },
    {
      "cell_type": "code",
      "metadata": {
        "colab": {
          "base_uri": "https://localhost:8080/"
        },
        "id": "3yICMfvLQk5p",
        "outputId": "bc9d171f-9e38-443b-9a74-ae8d005b90c2"
      },
      "source": [
        "#문제24\r\n",
        "n = input()\r\n",
        "print(n.upper())"
      ],
      "execution_count": 148,
      "outputs": [
        {
          "output_type": "stream",
          "text": [
            "ace\n",
            "ACE\n"
          ],
          "name": "stdout"
        }
      ]
    },
    {
      "cell_type": "code",
      "metadata": {
        "colab": {
          "base_uri": "https://localhost:8080/"
        },
        "id": "Rb3m1IWDUKhZ",
        "outputId": "6ee92fdc-c05a-4ca6-f00b-2463b6a71370"
      },
      "source": [
        "print(input().upper())"
      ],
      "execution_count": 149,
      "outputs": [
        {
          "output_type": "stream",
          "text": [
            "ace\n",
            "ACE\n"
          ],
          "name": "stdout"
        }
      ]
    },
    {
      "cell_type": "code",
      "metadata": {
        "colab": {
          "base_uri": "https://localhost:8080/"
        },
        "id": "Kg60f0qdU13A",
        "outputId": "207681eb-3109-40ca-9a75-857648ab8e51"
      },
      "source": [
        "#문제25\r\n",
        "#n = int(input(''))\r\n",
        "\r\n",
        "def circle(n):\r\n",
        "  return n * n * 3.14\r\n",
        "\r\n",
        "circle(int(input()))\r\n",
        "#print(circle(n))"
      ],
      "execution_count": 161,
      "outputs": [
        {
          "output_type": "stream",
          "text": [
            "5\n"
          ],
          "name": "stdout"
        },
        {
          "output_type": "execute_result",
          "data": {
            "text/plain": [
              "78.5"
            ]
          },
          "metadata": {
            "tags": []
          },
          "execution_count": 161
        }
      ]
    },
    {
      "cell_type": "code",
      "metadata": {
        "colab": {
          "base_uri": "https://localhost:8080/"
        },
        "id": "ME4F_NV-Vnnn",
        "outputId": "230e6272-c968-4b8f-f830-36740315e0d2"
      },
      "source": [
        "#문제26\r\n",
        "planet = { \r\n",
        "    '수성' : 'Mercury',\r\n",
        "    '금성' : 'Venus',\r\n",
        "    '지구' : 'Earth',\r\n",
        "    '화성' : 'Mars',\r\n",
        "    '목성' : 'Jupiter',\r\n",
        "    '토성' : 'Saturn',\r\n",
        "    '천왕성' : 'Uranus',\r\n",
        "    '해왕성' : 'Neptune'\r\n",
        "}\r\n",
        "# try:\r\n",
        "#   a = input()\r\n",
        "#   planet[a]\r\n",
        "# except KeyError:\r\n",
        "#   print('잘못 입력하셨습니다')\r\n",
        "\r\n",
        "# if a not in planet.keys():\r\n",
        "#   print('잘못 입력하셨습니다')\r\n",
        "# else:\r\n",
        "#   planet[a]\r\n",
        "\r\n",
        "print((planet.get(input())))"
      ],
      "execution_count": 173,
      "outputs": [
        {
          "output_type": "stream",
          "text": [
            "earth\n",
            "None\n"
          ],
          "name": "stdout"
        }
      ]
    },
    {
      "cell_type": "code",
      "metadata": {
        "id": "A0icPs1wc1VH"
      },
      "source": [
        ""
      ],
      "execution_count": 174,
      "outputs": []
    },
    {
      "cell_type": "code",
      "metadata": {
        "id": "vY2viKzvdUWp"
      },
      "source": [
        ""
      ],
      "execution_count": null,
      "outputs": []
    }
  ]
}