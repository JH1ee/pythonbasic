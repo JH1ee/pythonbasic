{
  "nbformat": 4,
  "nbformat_minor": 0,
  "metadata": {
    "colab": {
      "name": "Untitled4.ipynb",
      "provenance": [],
      "collapsed_sections": [],
      "authorship_tag": "ABX9TyMFGb1YUX0pR7AIdBtPtR8Y",
      "include_colab_link": true
    },
    "kernelspec": {
      "name": "python3",
      "display_name": "Python 3"
    }
  },
  "cells": [
    {
      "cell_type": "markdown",
      "metadata": {
        "id": "view-in-github",
        "colab_type": "text"
      },
      "source": [
        "<a href=\"https://colab.research.google.com/github/JH1ee/pythonbasic/blob/main/quiz03.12.ipynb\" target=\"_parent\"><img src=\"https://colab.research.google.com/assets/colab-badge.svg\" alt=\"Open In Colab\"/></a>"
      ]
    },
    {
      "cell_type": "code",
      "metadata": {
        "colab": {
          "base_uri": "https://localhost:8080/"
        },
        "id": "eLx6Fp6oBh6j",
        "outputId": "4b03caf8-e5cd-4b9a-9b75-45fca90f0dd9"
      },
      "source": [
        "#1번\r\n",
        "people = {\r\n",
        "   ('이호준', '01050442903'),\r\n",
        "    ('이호상', '01051442904'),\r\n",
        "    ('이준호', '01050342904'),\r\n",
        "    ('이호준', '01050442903'),\r\n",
        "    ('이준', '01050412903'),\r\n",
        "    ('이호', '01050442904'),\r\n",
        "    ('이호준', '01050442903')\r\n",
        "}\r\n",
        "\r\n",
        "print(len(set(people)))\r\n"
      ],
      "execution_count": 4,
      "outputs": [
        {
          "output_type": "stream",
          "text": [
            "5\n"
          ],
          "name": "stdout"
        }
      ]
    },
    {
      "cell_type": "code",
      "metadata": {
        "colab": {
          "base_uri": "https://localhost:8080/"
        },
        "id": "G8vsOCEME7LU",
        "outputId": "0d064c76-1bde-4b6f-fb38-650fd70b7a9a"
      },
      "source": [
        "#2번\r\n",
        "\r\n",
        "x = input()\r\n",
        "for i in x:\r\n",
        "  if i.isupper():\r\n",
        "    print(i.lower(), end='')\r\n",
        "  else:\r\n",
        "    print(i.upper(), end='')"
      ],
      "execution_count": 12,
      "outputs": [
        {
          "output_type": "stream",
          "text": [
            "aaBBcD\n",
            "AAbbCd"
          ],
          "name": "stdout"
        }
      ]
    },
    {
      "cell_type": "code",
      "metadata": {
        "colab": {
          "base_uri": "https://localhost:8080/",
          "height": 53
        },
        "id": "2JPLMfIHN_p3",
        "outputId": "b44d8564-206f-44ed-ee7f-42ea42f4cd2e"
      },
      "source": [
        "a = input()\r\n",
        "\r\n",
        "a.swapcase()"
      ],
      "execution_count": 11,
      "outputs": [
        {
          "output_type": "stream",
          "text": [
            "aabbCdD\n"
          ],
          "name": "stdout"
        },
        {
          "output_type": "execute_result",
          "data": {
            "application/vnd.google.colaboratory.intrinsic+json": {
              "type": "string"
            },
            "text/plain": [
              "'AABBcDd'"
            ]
          },
          "metadata": {
            "tags": []
          },
          "execution_count": 11
        }
      ]
    },
    {
      "cell_type": "code",
      "metadata": {
        "colab": {
          "base_uri": "https://localhost:8080/"
        },
        "id": "fRIOUdX5Rpn7",
        "outputId": "4e7d2da7-d474-4bf9-da15-d643f58d4352"
      },
      "source": [
        "#3번\r\n",
        "\r\n",
        "num = [10,9,8,7,6,5,4,3,2,1]\r\n",
        "\r\n",
        "print(max(num))"
      ],
      "execution_count": 23,
      "outputs": [
        {
          "output_type": "stream",
          "text": [
            "10\n"
          ],
          "name": "stdout"
        }
      ]
    },
    {
      "cell_type": "code",
      "metadata": {
        "colab": {
          "base_uri": "https://localhost:8080/"
        },
        "id": "IIgWQslTcRa6",
        "outputId": "90686d4b-4148-44bd-8650-c087be9919ae"
      },
      "source": [
        "a = list(input().split())\r\n",
        "print(a)"
      ],
      "execution_count": 31,
      "outputs": [
        {
          "output_type": "stream",
          "text": [
            "10 5 4 21\n",
            "['10', '5', '4', '21']\n"
          ],
          "name": "stdout"
        }
      ]
    },
    {
      "cell_type": "code",
      "metadata": {
        "colab": {
          "base_uri": "https://localhost:8080/"
        },
        "id": "VbaBeq7-cjgh",
        "outputId": "94c21a85-cd75-4f09-f94c-22f7e2eba707"
      },
      "source": [
        "a = list(map(int,input(). split()))\r\n",
        "a.sort()\r\n",
        "print(a[-1])"
      ],
      "execution_count": 33,
      "outputs": [
        {
          "output_type": "stream",
          "text": [
            "1 5 10 4\n",
            "10\n"
          ],
          "name": "stdout"
        }
      ]
    },
    {
      "cell_type": "code",
      "metadata": {
        "colab": {
          "base_uri": "https://localhost:8080/"
        },
        "id": "XkdZBJ8pigwZ",
        "outputId": "286ffe96-d4a5-4186-ddca-6b59470e2017"
      },
      "source": [
        "#4번\r\n",
        "student = ['강은지','김유정','박현서','최성훈','홍유진','박지호','권윤일','김채리','한지호',\r\n",
        "           '김진이','김민호','강채연']\r\n",
        "student.sort()\r\n",
        "\r\n",
        "for i in range(len(student)):\r\n",
        "  print(\"번호 : {0}, 이름 : {1}\". format(i+1, student[i]))\r\n"
      ],
      "execution_count": 42,
      "outputs": [
        {
          "output_type": "stream",
          "text": [
            "번호 : 1, 이름 : 강은지\n",
            "번호 : 2, 이름 : 강채연\n",
            "번호 : 3, 이름 : 권윤일\n",
            "번호 : 4, 이름 : 김민호\n",
            "번호 : 5, 이름 : 김유정\n",
            "번호 : 6, 이름 : 김진이\n",
            "번호 : 7, 이름 : 김채리\n",
            "번호 : 8, 이름 : 박지호\n",
            "번호 : 9, 이름 : 박현서\n",
            "번호 : 10, 이름 : 최성훈\n",
            "번호 : 11, 이름 : 한지호\n",
            "번호 : 12, 이름 : 홍유진\n"
          ],
          "name": "stdout"
        }
      ]
    },
    {
      "cell_type": "markdown",
      "metadata": {
        "id": "_kNUdEaTotHw"
      },
      "source": [
        ""
      ]
    },
    {
      "cell_type": "code",
      "metadata": {
        "colab": {
          "base_uri": "https://localhost:8080/"
        },
        "id": "cT11-9fQlQfk",
        "outputId": "affcad62-1b23-4ef0-ea14-ca767fafcdab"
      },
      "source": [
        "#5번\r\n",
        "\r\n",
        "a = input().split(' ')\r\n",
        "out = ''\r\n",
        "\r\n",
        "for i in a:\r\n",
        "  out = out + i[0]\r\n",
        "\r\n",
        "print(out)"
      ],
      "execution_count": 45,
      "outputs": [
        {
          "output_type": "stream",
          "text": [
            "복잡한 세상 편하게\n",
            "복세편\n"
          ],
          "name": "stdout"
        }
      ]
    },
    {
      "cell_type": "code",
      "metadata": {
        "colab": {
          "base_uri": "https://localhost:8080/"
        },
        "id": "xWizauW2JLQR",
        "outputId": "b8893cf6-a022-4f6d-ef6e-1a010fb0a16d"
      },
      "source": [
        "#6번\r\n",
        "print(\"%s 자리수입니다\"%len(input()))"
      ],
      "execution_count": 46,
      "outputs": [
        {
          "output_type": "stream",
          "text": [
            "153\n",
            "3 자리수입니다\n"
          ],
          "name": "stdout"
        }
      ]
    },
    {
      "cell_type": "code",
      "metadata": {
        "colab": {
          "base_uri": "https://localhost:8080/"
        },
        "id": "AnwQlLJMWbZ7",
        "outputId": "927722ca-8816-455c-c75a-e6d33ac00253"
      },
      "source": [
        "#7번\r\n",
        "text = '빈칸도 글자다'\r\n",
        "print(len(text)  - text.count(' '))\r\n",
        "print()\r\n",
        "\r\n"
      ],
      "execution_count": 51,
      "outputs": [
        {
          "output_type": "stream",
          "text": [
            "6\n",
            "\n"
          ],
          "name": "stdout"
        }
      ]
    },
    {
      "cell_type": "code",
      "metadata": {
        "id": "VwVoRuYPkjcx"
      },
      "source": [
        ""
      ],
      "execution_count": null,
      "outputs": []
    }
  ]
}